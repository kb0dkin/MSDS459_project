{
 "cells": [
  {
   "cell_type": "code",
   "execution_count": 12,
   "metadata": {},
   "outputs": [],
   "source": [
    "# scraper.py\n",
    "#\n",
    "# Scrapes data about guitars and reviews from a few different sources,\n",
    "# then uses that data to populate an EdgeDB instance\n",
    "\n",
    "from selenium import webdriver\n",
    "from selenium.webdriver.firefox.options import Options\n",
    "# import time\n",
    "from bs4 import BeautifulSoup\n",
    "import edgedb\n",
    "import os\n",
    "from os import path\n",
    "\n",
    "import numpy as np\n",
    "import random\n",
    "import json\n"
   ]
  },
  {
   "cell_type": "code",
   "execution_count": 2,
   "metadata": {},
   "outputs": [],
   "source": [
    "\n",
    "# local import\n",
    "import scrape_utils\n",
    "# import class_definitions\n"
   ]
  },
  {
   "cell_type": "code",
   "execution_count": null,
   "metadata": {},
   "outputs": [],
   "source": [
    "# create new instance of firefox driver -- this should be the geckodriver\n",
    "options = Options()\n",
    "options.binary_location = r\"C:\\\\Program Files\\\\Mozilla Firefox\\\\firefox.exe\"\n",
    "options.headless = True\n",
    "# options.set_headless(True)\n",
    "driver = webdriver.Firefox(executable_path=\"C:\\Program Files\\GeckoDriver\\geckodriver.exe\", options=options)\n",
    "\n",
    "# driver.manage()"
   ]
  },
  {
   "cell_type": "code",
   "execution_count": null,
   "metadata": {},
   "outputs": [],
   "source": [
    "\n",
    "# ---------------------------------------------------\n",
    "# start with guitarcenter\n",
    "# ---------------------------------------------------\n",
    "\n",
    "url_list = [] #  list of guitar urls\n",
    "guitars = [] # list of guitars\n",
    "# iterate over the range of \"Nao\" values, get links to all guitars\n",
    "# for ii in range(0, 4400, 100):\n",
    "for ii in range(0,100,100): # temp testing\n",
    "    html = scrape_utils.gc_get_browsing_pages(driver, ii) # get the html doc\n",
    "\n",
    "    url_list.append(scrape_utils.gc_extract_links(html)) # append the list of matches\n",
    "\n",
    "# make it unique -- without numpy\n",
    "url_list = list(set([item for sublist in url_list for item in sublist]))"
   ]
  },
  {
   "cell_type": "code",
   "execution_count": 3,
   "metadata": {},
   "outputs": [],
   "source": [
    "client = edgedb.create_client(dsn='MSDS_459')"
   ]
  },
  {
   "cell_type": "code",
   "execution_count": null,
   "metadata": {},
   "outputs": [],
   "source": [
    "client.query(\"\"\" INSERT ReviewSource {\n",
    "                    name := <str>'Guitar Center',\n",
    "                    sourceType := <default::SourceType>'Vendor',\n",
    "            } UNLESS CONFLICT \"\"\")\n",
    "\n",
    "# create a \"Guitar Center\" vendor\n",
    "client.query(\"\"\" INSERT Vendor {\n",
    "                    name := <str>'Guitar Center',\n",
    "            } UNLESS CONFLICT \"\"\")"
   ]
  },
  {
   "cell_type": "code",
   "execution_count": null,
   "metadata": {},
   "outputs": [],
   "source": [
    "from importlib import reload\n",
    "reload(scrape_utils)\n",
    "reload(scrape_utils.class_definitions)\n",
    "# reload(class_definitions)"
   ]
  },
  {
   "cell_type": "code",
   "execution_count": null,
   "metadata": {},
   "outputs": [],
   "source": [
    "for url_i,url in enumerate(url_list):\n",
    "    if url_i < 100:\n",
    "        html = scrape_utils.gc_get_all_reviews(driver, url)  \n",
    "        reviews = scrape_utils.gc_extract_review_info(html) # parse the review info\n",
    "        guitar = scrape_utils.gc_extract_guitar_info(url, html) # parse the specs for the guitar\n",
    "\n",
    "        guitar_id = guitar.insert(client)\n",
    "\n",
    "\n",
    "        for review in reviews:\n",
    "            review.insert(guitar_id, client)"
   ]
  },
  {
   "cell_type": "code",
   "execution_count": null,
   "metadata": {},
   "outputs": [],
   "source": [
    "url = url_list[1]\n",
    "html = scrape_utils.gc_get_all_reviews(driver, url)  \n",
    "reviews = scrape_utils.gc_extract_review_info(html) # parse the review info\n",
    "guitar = scrape_utils.gc_extract_guitar_info(url, html) # parse the specs for the guitar"
   ]
  },
  {
   "cell_type": "code",
   "execution_count": null,
   "metadata": {},
   "outputs": [],
   "source": [
    "rating = review.rating if review.rating is not None else float()\n",
    "rev_date = review.date if review.date is not None else str()\n",
    "pros = review.pros if len(review.pros) > 0 else edgedb.Set()\n",
    "cons = review.cons if len(review.cons) > 0 else edgedb.Set()\n",
    "best_for = review.best_for if len(review.best_for) > 0 else edgedb.Set()\n",
    "text = review.text if review.text is not None else str()\n",
    "\n",
    "query_str = \"\"\"INSERT Review {\n",
    "                normalized_rating := <float64>$rating,\n",
    "                date := <std::datetime>$rev_date, \n",
    "                pros := <array<str>>$pros,\n",
    "                cons := <array<str>>$cons,\n",
    "                best_for := <array<str>>$best_for,\n",
    "                written_review := <str>$text,\n",
    "                guitar := (\n",
    "                    SELECT Guitar\n",
    "                    filter .id = <uuid>$guitar_id\n",
    "                    ),\n",
    "                source :=(\n",
    "                    SELECT ReviewSource\n",
    "                    filter .name = <str>$review_source\n",
    "                ),\n",
    "                }\n",
    "                \"\"\"\n",
    "return_val = client.query(query_str, rating=rating, rev_date=rev_date, pros=pros,\\\n",
    "             cons = cons, best_for = best_for, text = text, guitar_id = guitar_id[0].id, review_source = review.review_source)\n"
   ]
  },
  {
   "cell_type": "code",
   "execution_count": null,
   "metadata": {},
   "outputs": [],
   "source": [
    "query_str = \"\"\"INSERT Review {\n",
    "                normalized_rating := <float64>$rating,\n",
    "                date := <std::datetime>$rev_date, \n",
    "                pros := <array<str>>$pros,\n",
    "                cons := <array<str>>$cons,\n",
    "                best_for := <array<str>>$best_for,\n",
    "                written_review := <str>$text,\n",
    "                guitar := (\n",
    "                    SELECT Guitar\n",
    "                    filter .id = <uuid>$guitar_id\n",
    "                    ),\n",
    "                source :=(\n",
    "                    SELECT ReviewSource\n",
    "                    filter .name = <str>$review_source\n",
    "                ),\n",
    "                }\n",
    "                \"\"\"\n",
    "return_val = client.query(query_str, rating=rating, rev_date=rev_date, pros=pros,\\\n",
    "             cons = cons, best_for = best_for, text = text, guitar_id = guitar_id, review_source = review.review_source)\n"
   ]
  },
  {
   "cell_type": "code",
   "execution_count": null,
   "metadata": {},
   "outputs": [],
   "source": [
    "\n",
    "driver.close()\n",
    "client.close()"
   ]
  },
  {
   "cell_type": "code",
   "execution_count": 4,
   "metadata": {},
   "outputs": [
    {
     "name": "stdout",
     "output_type": "stream",
     "text": [
      "List of Guitars and URLs read from product_urls.txt\n"
     ]
    }
   ],
   "source": [
    "saveDir = '../product_pages_full'\n",
    "url_file = 'product_urls.txt'\n",
    "with open(url_file, \"r\") as file:\n",
    "    url_list = file.read().splitlines()\n",
    "print(f'List of Guitars and URLs read from {url_file}')"
   ]
  },
  {
   "cell_type": "code",
   "execution_count": null,
   "metadata": {},
   "outputs": [],
   "source": [
    "n_urls = len(url_list)\n",
    "scrape_start = n_urls-1000\n",
    "scrape_end = n_urls\n",
    "len_scrape = scrape_end-scrape_start\n",
    "\n",
    "print(f'Downloading HTML pages for {len_scrape} pages')\n",
    "status_steps = np.ceil(len_scrape/20)\n",
    "vpn_count = 1\n",
    "for i_url,url_partial in enumerate(url_list[scrape_start:scrape_end]): # can modify this to only download a subset of the urls at a time\n",
    "\n",
    "    # a nice little status bar :)\n",
    "    curr_status = int(np.ceil(i_url/status_steps))\n",
    "    print(f\"[{curr_status*'-'}{(20-curr_status)*' '}] {i_url} of {len_scrape}\",end='\\r')    \n",
    "\n",
    "    # check if file exists, skip if it's around\n",
    "    save_name = f\"{saveDir}{path.splitext(url_partial)[0]}.html\"\n",
    "    if not path.exists(save_name): # skip if the file exists\n",
    "\n",
    "        try:\n",
    "            # Construct the full URL\n",
    "            url = \"https://www.guitarcenter.com\" + url_partial\n",
    "            driver.get(url)\n",
    "            html = scrape_utils.gc_get_all_reviews(driver, url)\n",
    "\n",
    "            # create a directory as needed\n",
    "            subDir = path.split(url_partial)[0]\n",
    "            if not path.exists(saveDir + subDir):\n",
    "                os.makedirs(f\"{saveDir}{subDir}\")\n",
    "            with open(save_name, \"w\", encoding='utf-8') as file:\n",
    "                file.write(html)\n",
    "\n",
    "        except:\n",
    "            print('Time to change the VPN')\n",
    "            os.system(f'mullvad relay set hostname us-chi-00{vpn_count%5+1}')\n",
    "            vpn_count += 1\n",
    "\n",
    "\n",
    "\n",
    "\n"
   ]
  },
  {
   "cell_type": "code",
   "execution_count": null,
   "metadata": {},
   "outputs": [],
   "source": [
    "driver.close()"
   ]
  },
  {
   "cell_type": "code",
   "execution_count": 5,
   "metadata": {},
   "outputs": [
    {
     "name": "stdout",
     "output_type": "stream",
     "text": [
      "Adding guitars to the database\n",
      "WARNING:tensorflow:Please fix your imports. Module tensorflow.python.training.tracking.data_structures has been moved to tensorflow.python.trackable.data_structures. The old module will be deleted in version 2.11.\n",
      "[--------------------]   6581/6582\n",
      "\n",
      "Upload Statistics:\n",
      "\t1238 Guitars added\n",
      "\t163 Guitars were already in the database\n",
      "\t5181 html files were missing\n",
      "\t0 attempts failed for unknown reasons\n"
     ]
    }
   ],
   "source": [
    "print(\"Adding guitars to the database\")\n",
    "add_list = []\n",
    "skip_list = []\n",
    "miss_list = []\n",
    "fail_list = []\n",
    "\n",
    "\n",
    "BERT_model = scrape_utils.BERT_embed_model()\n",
    "status_steps = np.ceil(len(url_list)/20)\n",
    "for i_url,url in enumerate(url_list):\n",
    "\n",
    "    # a nice little status bar :)\n",
    "    curr_status = int(np.ceil(i_url/status_steps))\n",
    "    print(f\"[{curr_status*'-'}{(20-curr_status)*' '}]   {i_url}/{len(url_list)}\",end='\\r')\n",
    "\n",
    "    # check to make sure that we have scraped the html\n",
    "    url_file = f\"{saveDir}/{url[1:-3]}.html\"\n",
    "    if path.exists(url_file):\n",
    "        with open(url_file, \"r\", encoding='utf-8') as file:\n",
    "            html = file.read()\n",
    "\n",
    "        reviews = scrape_utils.gc_extract_review_info(html) # parse the review info\n",
    "        guitar = scrape_utils.gc_extract_guitar_info(url, html, BERT_model=BERT_model) # parse the specs for the guitar\n",
    "        # print(guitar.scale_length)\n",
    "\n",
    "        if len(client.query(\"SELECT Guitar filter .model = <str>$model\", model=guitar.model)) == 0:\n",
    "            # try:\n",
    "            guitar_id = guitar.insert(client) # insert the guitar, get the uuid\n",
    "\n",
    "            for review in reviews: # insert all reviews\n",
    "                review.insert(guitar_id, client)\n",
    "                \n",
    "            add_list.append(url) # keep track of what has been added\n",
    "\n",
    "            # except:\n",
    "                # print(f'Could not insert guitar {guitar.model}')\n",
    "                # fail_list.append(url)\n",
    "        else:\n",
    "            skip_list.append(url)\n",
    "\n",
    "    else:\n",
    "        # print(f\"{url_file} has not been downloaded\")\n",
    "        miss_list.append(url)\n",
    "\n",
    "print('\\n')\n",
    "print('Upload Statistics:')\n",
    "print(f\"\\t{len(add_list)} Guitars added\")\n",
    "print(f\"\\t{len(skip_list)} Guitars were already in the database\")\n",
    "print(f\"\\t{len(miss_list)} html files were missing\")\n",
    "print(f\"\\t{len(fail_list)} attempts failed for unknown reasons\")\n"
   ]
  },
  {
   "cell_type": "code",
   "execution_count": null,
   "metadata": {},
   "outputs": [],
   "source": [
    "with edgedb.create_client('MSDS_459') as client:\n",
    "    num_gs = client.query('SELECT count(Guitar);')"
   ]
  },
  {
   "cell_type": "code",
   "execution_count": 28,
   "metadata": {},
   "outputs": [],
   "source": [
    "with edgedb.create_client('MSDS_459') as client:\n",
    "    # randomly choose an offset\n",
    "    num_gs = client.query('SELECT count(Guitar);')[0]\n",
    "    offset_gs = random.randint(0,num_gs-201)\n",
    "    \n",
    "    # Get a random subset of embeddings\n",
    "    embeds = client.query(f'SELECT Guitar {{ embedding, id }} OFFSET {offset_gs} limit 200;')"
   ]
  },
  {
   "cell_type": "code",
   "execution_count": 30,
   "metadata": {},
   "outputs": [
    {
     "name": "stdout",
     "output_type": "stream",
     "text": [
      "1/1 [==============================] - 0s 91ms/step\n"
     ]
    }
   ],
   "source": [
    "embedding = BERT_model.predict([guitar.description])['encoder_outputs'][0]\n",
    "\n",
    "dist = np.ndarray([200,])\n",
    "for i_embed,embed in enumerate(embeds):\n",
    "    dist[i_embed] = np.linalg.norm(np.array(json.loads(embed.embedding))-embedding)"
   ]
  },
  {
   "cell_type": "code",
   "execution_count": 60,
   "metadata": {},
   "outputs": [],
   "source": [
    "closest_inds = np.argsort(dist)[0:5] # get the five closest\n",
    "\n",
    "# create the query. I'm sure I could use arrays here.\n",
    "sql_query = '''SELECT Guitar { model, brand: {name}, description}\n",
    "                FILTER .id in \n",
    "                {  <uuid>$id0, <uuid>$id1, <uuid>$id2, <uuid>$id3, <uuid>$id4}'''\n",
    "\n",
    "guitars = client.query(sql_query,\\\n",
    "                    id0=embeds[closest_inds[0]].id,\\\n",
    "                    id1=embeds[closest_inds[1]].id,\\\n",
    "                    id2=embeds[closest_inds[2]].id,\\\n",
    "                    id3=embeds[closest_inds[3]].id,\\\n",
    "                    id4=embeds[closest_inds[4]].id )\n"
   ]
  },
  {
   "cell_type": "code",
   "execution_count": 27,
   "metadata": {},
   "outputs": [
    {
     "data": {
      "text/plain": [
       "array([110, 144,  87, 162, 121], dtype=int64)"
      ]
     },
     "execution_count": 27,
     "metadata": {},
     "output_type": "execute_result"
    }
   ],
   "source": [
    "np.argsort(dist)[0:5]"
   ]
  },
  {
   "cell_type": "code",
   "execution_count": 33,
   "metadata": {},
   "outputs": [
    {
     "data": {
      "text/plain": [
       "['embedding', 'id']"
      ]
     },
     "execution_count": 33,
     "metadata": {},
     "output_type": "execute_result"
    }
   ],
   "source": [
    "dir(embeds[0])"
   ]
  },
  {
   "cell_type": "code",
   "execution_count": 45,
   "metadata": {},
   "outputs": [
    {
     "name": "stdout",
     "output_type": "stream",
     "text": [
      "SELECT Guitar { model, brand, description}\n",
      "        FILTER .id in { e3f46c76-c12a-11ed-ad19-4f5fb29004f2 }\n"
     ]
    }
   ],
   "source": [
    "print(sql_query)"
   ]
  },
  {
   "cell_type": "code",
   "execution_count": 62,
   "metadata": {},
   "outputs": [
    {
     "data": {
      "text/plain": [
       "list"
      ]
     },
     "execution_count": 62,
     "metadata": {},
     "output_type": "execute_result"
    }
   ],
   "source": [
    "type(guitars)"
   ]
  },
  {
   "cell_type": "code",
   "execution_count": 75,
   "metadata": {},
   "outputs": [
    {
     "ename": "AttributeError",
     "evalue": "'str' object has no attribute 'ident'",
     "output_type": "error",
     "traceback": [
      "\u001b[1;31m---------------------------------------------------------------------------\u001b[0m",
      "\u001b[1;31mAttributeError\u001b[0m                            Traceback (most recent call last)",
      "\u001b[1;32mc:\\Users\\17204\\Documents\\git\\MSDS459_project\\scraper\\Development.ipynb Cell 25\u001b[0m in \u001b[0;36m<cell line: 1>\u001b[1;34m()\u001b[0m\n\u001b[0;32m      <a href='vscode-notebook-cell:/c%3A/Users/17204/Documents/git/MSDS459_project/scraper/Development.ipynb#X44sZmlsZQ%3D%3D?line=0'>1</a>\u001b[0m \u001b[39mfor\u001b[39;00m guitar \u001b[39min\u001b[39;00m guitars:\n\u001b[0;32m      <a href='vscode-notebook-cell:/c%3A/Users/17204/Documents/git/MSDS459_project/scraper/Development.ipynb#X44sZmlsZQ%3D%3D?line=1'>2</a>\u001b[0m     \u001b[39mfor\u001b[39;00m key \u001b[39min\u001b[39;00m \u001b[39mdir\u001b[39m(guitar):\n\u001b[1;32m----> <a href='vscode-notebook-cell:/c%3A/Users/17204/Documents/git/MSDS459_project/scraper/Development.ipynb#X44sZmlsZQ%3D%3D?line=2'>3</a>\u001b[0m         \u001b[39mprint\u001b[39m(key\u001b[39m.\u001b[39;49mident)\n",
      "\u001b[1;31mAttributeError\u001b[0m: 'str' object has no attribute 'ident'"
     ]
    }
   ],
   "source": [
    "for guitar in guitars:\n",
    "    for key in guitar:\n",
    "        print(key)"
   ]
  },
  {
   "cell_type": "code",
   "execution_count": null,
   "metadata": {},
   "outputs": [],
   "source": []
  }
 ],
 "metadata": {
  "kernelspec": {
   "display_name": "MSDS",
   "language": "python",
   "name": "python3"
  },
  "language_info": {
   "codemirror_mode": {
    "name": "ipython",
    "version": 3
   },
   "file_extension": ".py",
   "mimetype": "text/x-python",
   "name": "python",
   "nbconvert_exporter": "python",
   "pygments_lexer": "ipython3",
   "version": "3.9.13"
  },
  "orig_nbformat": 4
 },
 "nbformat": 4,
 "nbformat_minor": 2
}
