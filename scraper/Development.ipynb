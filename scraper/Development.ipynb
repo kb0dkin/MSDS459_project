{
 "cells": [
  {
   "cell_type": "code",
   "execution_count": 7,
   "metadata": {},
   "outputs": [],
   "source": [
    "# scraper.py\n",
    "#\n",
    "# Scrapes data about guitars and reviews from a few different sources,\n",
    "# then uses that data to populate an EdgeDB instance\n",
    "#\n",
    "# Much of the scraper code is just refactoring of Joe's GuitarCenter code, \n",
    "# put into a little more organized piece of code\n",
    "\n",
    "\n",
    "from selenium import webdriver\n",
    "from selenium.webdriver.firefox.options import Options\n",
    "# import time\n",
    "from bs4 import BeautifulSoup\n",
    "import edgedb\n",
    "import os\n",
    "\n",
    "import numpy as np\n",
    "# import json\n"
   ]
  },
  {
   "cell_type": "code",
   "execution_count": 2,
   "metadata": {},
   "outputs": [],
   "source": [
    "\n",
    "# local import\n",
    "import scrape_utils\n",
    "# import class_definitions\n"
   ]
  },
  {
   "cell_type": "code",
   "execution_count": 3,
   "metadata": {},
   "outputs": [],
   "source": [
    "\n",
    "\n",
    "# create new instance of firefox driver -- this should be the geckodriver\n",
    "options = Options()\n",
    "options.binary_location = r\"C:\\\\Program Files\\\\Mozilla Firefox\\\\firefox.exe\"\n",
    "options.headless = True\n",
    "driver = webdriver.Firefox(executable_path=\"C:\\Program Files\\GeckoDriver\\geckodriver.exe\", options=options)\n"
   ]
  },
  {
   "cell_type": "code",
   "execution_count": 4,
   "metadata": {},
   "outputs": [],
   "source": [
    "\n",
    "# ---------------------------------------------------\n",
    "# start with guitarcenter\n",
    "# ---------------------------------------------------\n",
    "\n",
    "url_list = [] #  list of guitar urls\n",
    "guitars = [] # list of guitars\n",
    "# iterate over the range of \"Nao\" values, get links to all guitars\n",
    "# for ii in range(0, 4400, 100):\n",
    "for ii in range(0,100,100): # temp testing\n",
    "    html = scrape_utils.gc_get_browsing_pages(driver, ii) # get the html doc\n",
    "\n",
    "    url_list.append(scrape_utils.gc_extract_links(html)) # append the list of matches\n",
    "\n",
    "# make it unique -- without numpy\n",
    "url_list = list(set([item for sublist in url_list for item in sublist]))"
   ]
  },
  {
   "cell_type": "code",
   "execution_count": 3,
   "metadata": {},
   "outputs": [],
   "source": [
    "client = edgedb.create_client(dsn='MSDS_459')"
   ]
  },
  {
   "cell_type": "code",
   "execution_count": null,
   "metadata": {},
   "outputs": [],
   "source": [
    "client.query(\"\"\" INSERT ReviewSource {\n",
    "                    name := <str>'Guitar Center',\n",
    "                    sourceType := <default::SourceType>'Vendor',\n",
    "            } UNLESS CONFLICT \"\"\")\n",
    "\n",
    "# create a \"Guitar Center\" vendor\n",
    "client.query(\"\"\" INSERT Vendor {\n",
    "                    name := <str>'Guitar Center',\n",
    "            } UNLESS CONFLICT \"\"\")"
   ]
  },
  {
   "cell_type": "code",
   "execution_count": null,
   "metadata": {},
   "outputs": [],
   "source": [
    "from importlib import reload\n",
    "reload(scrape_utils)\n",
    "reload(scrape_utils.class_definitions)\n",
    "# reload(class_definitions)"
   ]
  },
  {
   "cell_type": "code",
   "execution_count": null,
   "metadata": {},
   "outputs": [],
   "source": [
    "for url_i,url in enumerate(url_list):\n",
    "    if url_i < 100:\n",
    "        html = scrape_utils.gc_get_all_reviews(driver, url)  \n",
    "        reviews = scrape_utils.gc_extract_review_info(html) # parse the review info\n",
    "        guitar = scrape_utils.gc_extract_guitar_info(url, html) # parse the specs for the guitar\n",
    "\n",
    "        guitar_id = guitar.insert(client)\n",
    "\n",
    "\n",
    "        for review in reviews:\n",
    "            review.insert(guitar_id, client)"
   ]
  },
  {
   "cell_type": "code",
   "execution_count": 6,
   "metadata": {},
   "outputs": [],
   "source": [
    "url = url_list[1]\n",
    "html = scrape_utils.gc_get_all_reviews(driver, url)  \n",
    "reviews = scrape_utils.gc_extract_review_info(html) # parse the review info\n",
    "guitar = scrape_utils.gc_extract_guitar_info(url, html) # parse the specs for the guitar"
   ]
  },
  {
   "cell_type": "code",
   "execution_count": 7,
   "metadata": {},
   "outputs": [],
   "source": [
    "guitar_id = guitar.insert(client)"
   ]
  },
  {
   "cell_type": "code",
   "execution_count": null,
   "metadata": {},
   "outputs": [],
   "source": []
  },
  {
   "cell_type": "code",
   "execution_count": 8,
   "metadata": {},
   "outputs": [],
   "source": [
    "for review in reviews:\n",
    "    review.insert(guitar_id, client)"
   ]
  },
  {
   "cell_type": "code",
   "execution_count": null,
   "metadata": {},
   "outputs": [],
   "source": [
    "rating = review.rating if review.rating is not None else float()\n",
    "rev_date = review.date if review.date is not None else str()\n",
    "pros = review.pros if len(review.pros) > 0 else edgedb.Set()\n",
    "cons = review.cons if len(review.cons) > 0 else edgedb.Set()\n",
    "best_for = review.best_for if len(review.best_for) > 0 else edgedb.Set()\n",
    "text = review.text if review.text is not None else str()\n",
    "\n",
    "query_str = \"\"\"INSERT Review {\n",
    "                normalized_rating := <float64>$rating,\n",
    "                date := <std::datetime>$rev_date, \n",
    "                pros := <array<str>>$pros,\n",
    "                cons := <array<str>>$cons,\n",
    "                best_for := <array<str>>$best_for,\n",
    "                written_review := <str>$text,\n",
    "                guitar := (\n",
    "                    SELECT Guitar\n",
    "                    filter .id = <uuid>$guitar_id\n",
    "                    ),\n",
    "                source :=(\n",
    "                    SELECT ReviewSource\n",
    "                    filter .name = <str>$review_source\n",
    "                ),\n",
    "                }\n",
    "                \"\"\"\n",
    "return_val = client.query(query_str, rating=rating, rev_date=rev_date, pros=pros,\\\n",
    "             cons = cons, best_for = best_for, text = text, guitar_id = guitar_id[0].id, review_source = review.review_source)\n"
   ]
  },
  {
   "cell_type": "code",
   "execution_count": null,
   "metadata": {},
   "outputs": [],
   "source": [
    "review.review_source"
   ]
  },
  {
   "cell_type": "code",
   "execution_count": null,
   "metadata": {},
   "outputs": [],
   "source": [
    "query_str = \"\"\"INSERT Review {\n",
    "                normalized_rating := <float64>$rating,\n",
    "                date := <std::datetime>$rev_date, \n",
    "                pros := <array<str>>$pros,\n",
    "                cons := <array<str>>$cons,\n",
    "                best_for := <array<str>>$best_for,\n",
    "                written_review := <str>$text,\n",
    "                guitar := (\n",
    "                    SELECT Guitar\n",
    "                    filter .id = <uuid>$guitar_id\n",
    "                    ),\n",
    "                source :=(\n",
    "                    SELECT ReviewSource\n",
    "                    filter .name = <str>$review_source\n",
    "                ),\n",
    "                }\n",
    "                \"\"\"\n",
    "return_val = client.query(query_str, rating=rating, rev_date=rev_date, pros=pros,\\\n",
    "             cons = cons, best_for = best_for, text = text, guitar_id = guitar_id, review_source = review.review_source)\n"
   ]
  },
  {
   "cell_type": "code",
   "execution_count": 31,
   "metadata": {},
   "outputs": [],
   "source": [
    "import re"
   ]
  },
  {
   "cell_type": "code",
   "execution_count": null,
   "metadata": {},
   "outputs": [],
   "source": [
    "match = re.search(r'[C|c]lassical',guitar.model)"
   ]
  },
  {
   "cell_type": "code",
   "execution_count": null,
   "metadata": {},
   "outputs": [],
   "source": [
    "match.group(0)"
   ]
  },
  {
   "cell_type": "code",
   "execution_count": 9,
   "metadata": {},
   "outputs": [],
   "source": [
    "\n",
    "driver.close()\n",
    "client.close()"
   ]
  },
  {
   "cell_type": "code",
   "execution_count": 13,
   "metadata": {},
   "outputs": [],
   "source": [
    "client = edgedb.create_client(dsn='MSDS_459')\n",
    "\n",
    "query_string = '''WITH pickups := \n",
    "            (SELECT Guitar.pickups filter Guitar.pickups != '')\n",
    "            \n",
    "            SELECT DISTINCT pickups;\n",
    "            '''\n",
    "cutaways = client.query(query_string)"
   ]
  },
  {
   "cell_type": "code",
   "execution_count": 8,
   "metadata": {},
   "outputs": [],
   "source": [
    "resp = client.query(query_string)"
   ]
  },
  {
   "cell_type": "code",
   "execution_count": 14,
   "metadata": {},
   "outputs": [
    {
     "data": {
      "text/plain": [
       "[]"
      ]
     },
     "execution_count": 14,
     "metadata": {},
     "output_type": "execute_result"
    }
   ],
   "source": [
    "cutaways"
   ]
  },
  {
   "cell_type": "code",
   "execution_count": 5,
   "metadata": {},
   "outputs": [],
   "source": [
    "search_dict = dict()\n",
    "\n",
    "guitar_props = ['body_shape','cutaway','pickups']\n",
    "\n",
    "for prop in guitar_props:\n",
    "    query_string = f\"\"\"WITH property :=\n",
    "            (SELECT Guitar.{prop} filter Guitar.{prop} != '')\n",
    "            SELECT DISTINCT property\"\"\"\n",
    "\n",
    "    search_dict[prop] = client.query(query_string)    \n"
   ]
  },
  {
   "cell_type": "code",
   "execution_count": 62,
   "metadata": {},
   "outputs": [],
   "source": [
    "# find valid entries for all \"string\" fields\n",
    "str_props = ['body_shape','cutaway','pickups', 'type', 'country_of_origin']\n",
    "for prop in str_props:\n",
    "    query_string = f'''WITH prop :=\n",
    "            (SELECT str_lower(Guitar.{prop}) filter Guitar.{prop} != '')\n",
    "            SELECT DISTINCT prop'''\n",
    "    search_dict[prop] = client.query(query_string)"
   ]
  },
  {
   "cell_type": "code",
   "execution_count": 6,
   "metadata": {},
   "outputs": [
    {
     "data": {
      "text/plain": [
       "{'body_shape': ['000-14 Fret',\n",
       "  'Concert',\n",
       "  'Dreadnought, 14th Fret',\n",
       "  'Other',\n",
       "  'Semi-hollow or chambered body',\n",
       "  'Solid body'],\n",
       " 'cutaway': ['Non-cutaway', 'Single cutaway', 'Single-cutaway'],\n",
       " 'pickups': []}"
      ]
     },
     "execution_count": 6,
     "metadata": {},
     "output_type": "execute_result"
    }
   ],
   "source": [
    "search_dict"
   ]
  },
  {
   "cell_type": "code",
   "execution_count": 4,
   "metadata": {},
   "outputs": [
    {
     "ename": "NameError",
     "evalue": "name 'search_dict' is not defined",
     "output_type": "error",
     "traceback": [
      "\u001B[1;31m---------------------------------------------------------------------------\u001B[0m",
      "\u001B[1;31mNameError\u001B[0m                                 Traceback (most recent call last)",
      "\u001B[1;32mc:\\Users\\17204\\Documents\\git\\MSDS459_project\\scraper\\Development.ipynb Cell 26\u001B[0m in \u001B[0;36m<cell line: 2>\u001B[1;34m()\u001B[0m\n\u001B[0;32m      <a href='vscode-notebook-cell:/c%3A/Users/17204/Documents/git/MSDS459_project/scraper/Development.ipynb#X34sZmlsZQ%3D%3D?line=1'>2</a>\u001B[0m \u001B[39mfor\u001B[39;00m prop \u001B[39min\u001B[39;00m num_props:\n\u001B[0;32m      <a href='vscode-notebook-cell:/c%3A/Users/17204/Documents/git/MSDS459_project/scraper/Development.ipynb#X34sZmlsZQ%3D%3D?line=2'>3</a>\u001B[0m     query_string \u001B[39m=\u001B[39m \u001B[39mf\u001B[39m\u001B[39m'''\u001B[39m\u001B[39mWITH prop :=\u001B[39m\n\u001B[0;32m      <a href='vscode-notebook-cell:/c%3A/Users/17204/Documents/git/MSDS459_project/scraper/Development.ipynb#X34sZmlsZQ%3D%3D?line=3'>4</a>\u001B[0m \u001B[39m            (SELECT Guitar.\u001B[39m\u001B[39m{\u001B[39;00mprop\u001B[39m}\u001B[39;00m\u001B[39m filter Guitar.\u001B[39m\u001B[39m{\u001B[39;00mprop\u001B[39m}\u001B[39;00m\u001B[39m != 0)\u001B[39m\n\u001B[0;32m      <a href='vscode-notebook-cell:/c%3A/Users/17204/Documents/git/MSDS459_project/scraper/Development.ipynb#X34sZmlsZQ%3D%3D?line=4'>5</a>\u001B[0m \u001B[39m            SELECT DISTINCT prop\u001B[39m\u001B[39m'''\u001B[39m\n\u001B[1;32m----> <a href='vscode-notebook-cell:/c%3A/Users/17204/Documents/git/MSDS459_project/scraper/Development.ipynb#X34sZmlsZQ%3D%3D?line=5'>6</a>\u001B[0m     search_dict[prop] \u001B[39m=\u001B[39m client\u001B[39m.\u001B[39mquery(query_string)\n\u001B[0;32m      <a href='vscode-notebook-cell:/c%3A/Users/17204/Documents/git/MSDS459_project/scraper/Development.ipynb#X34sZmlsZQ%3D%3D?line=7'>8</a>\u001B[0m search_dict\n",
      "\u001B[1;31mNameError\u001B[0m: name 'search_dict' is not defined"
     ]
    }
   ],
   "source": [
    "num_props = ['num_strings','scale_length','num_frets']\n",
    "for prop in num_props:\n",
    "    query_string = f'''WITH prop :=\n",
    "            (SELECT Guitar.{prop} filter Guitar.{prop} != 0)\n",
    "            SELECT DISTINCT prop'''\n",
    "    search_dict[prop] = client.query(query_string)\n",
    "\n",
    "search_dict"
   ]
  },
  {
   "cell_type": "code",
   "execution_count": 39,
   "metadata": {},
   "outputs": [
    {
     "data": {
      "text/plain": [
       "'Acoustic-electric'"
      ]
     },
     "execution_count": 39,
     "metadata": {},
     "output_type": "execute_result"
    }
   ],
   "source": [
    "test_str = 'Acoustic-electric'\n",
    "match = re.search('[A|a]coustic[ |-][E|e]lectric', test_str).group(0)\n",
    "match"
   ]
  },
  {
   "cell_type": "code",
   "execution_count": 40,
   "metadata": {},
   "outputs": [
    {
     "data": {
      "text/plain": [
       "{'body_shape': ['000-14 Fret',\n",
       "  'Concert',\n",
       "  'Dreadnought, 14th Fret',\n",
       "  'Other',\n",
       "  'Semi-hollow or chambered body',\n",
       "  'Solid body'],\n",
       " 'cutaway': ['Non-cutaway', 'Single cutaway', 'Single-cutaway'],\n",
       " 'pickups': [],\n",
       " 'type': ['Acoustic', 'Acoustic Electric', 'Classical', 'Electric', 'unknown'],\n",
       " 'country_of_origin': [],\n",
       " 'num_strings': [],\n",
       " 'scale_length': [],\n",
       " 'num_frets': []}"
      ]
     },
     "execution_count": 40,
     "metadata": {},
     "output_type": "execute_result"
    }
   ],
   "source": [
    "search_dict"
   ]
  },
  {
   "cell_type": "code",
   "execution_count": 10,
   "metadata": {},
   "outputs": [],
   "source": [
    "query_str = 'SELECT Guitar {model, description} filter .type in {\"Electric\"} limit 5;'\n",
    "with edgedb.create_client(dsn='MSDS_459') as client:\n",
    "\n",
    "    guitars = client.query(query_str)"
   ]
  },
  {
   "cell_type": "code",
   "execution_count": 13,
   "metadata": {},
   "outputs": [
    {
     "data": {
      "text/plain": [
       "edgedb.Object"
      ]
     },
     "execution_count": 13,
     "metadata": {},
     "output_type": "execute_result"
    }
   ],
   "source": [
    "type(guitars[0])"
   ]
  },
  {
   "cell_type": "code",
   "execution_count": 18,
   "metadata": {},
   "outputs": [
    {
     "data": {
      "text/plain": [
       "['description', 'id', 'model']"
      ]
     },
     "execution_count": 18,
     "metadata": {},
     "output_type": "execute_result"
    }
   ],
   "source": [
    "dir(guitars[0])"
   ]
  },
  {
   "cell_type": "code",
   "execution_count": 20,
   "metadata": {},
   "outputs": [],
   "source": [
    "guitar_dict = {}\n",
    "for i_guitar,guitar in enumerate(guitars):\n",
    "    guitar_dict[i_guitar] = {'model':guitar.model, 'description':guitar.description}"
   ]
  },
  {
   "cell_type": "code",
   "execution_count": 21,
   "metadata": {},
   "outputs": [
    {
     "data": {
      "text/plain": [
       "{0: {'model': 'SP7F Spectre Electric Guitar', 'description': ''},\n",
       " 1: {'model': 'G&amp;L Fullerton Deluxe ASAT Special Left Handed Electric Guitar',\n",
       "  'description': 'The left-handed Gu0026L ASAT Special just might be the quintessential Gu0026L guitar, viewed by many as the ultimate single-cutaway. Back in 1985, this model was launched under the Gu0026L Broadcaster name, which prompted a response from Fred Gretsch of Gretsch Guitars over the name as Broadkaster is owned by Gretsch. The name then became “ASAT” which is US military shorthand for an “Anti-Satellite” missile. The ASAT Special, as the model became known, features jumbo single-coil Magnetic Field Design pickups, each with a narrow bobbin aperture for a coil which is shallow yet wide. In this regard, an MFD jumbo single coil is similar to a P-90 or Jazzmaster pickup, but the MFD principle provides a punchier bottom end and brighter top end that sparkles with harmonics. With the addition of his innovative Saddle-Lock bridge which transfers string energy right into the body end-grain for an incredibly resonant instrument, the ASAT Special is one of the most versatile guitars ever, serving up everything from ballsy twang to searing blues and smooth jazz tones.'},\n",
       " 2: {'model': 'DW CE24 24 Floyd Electric Guitar',\n",
       "  'description': 'The PRS DW CE24 24 Floyd electric is the signature guitar of American guitarist Dustie Waring of the progressive metal band Between the Buried and Me. With a sound that is both heavy and melodic, lush and menacing, this guitar demands a versatility without sacrificing tone or comfort. This model starts with the PRS CE bolt-on platform and includes a satin-finished maple neck, maple fretboard, a slightly modified Pattern Thin neck carve (Waring’s carve is slightly thinner front to back) and a Floyd Rose tremolo system. The 24 Floyd is also equipped with Waring’s signature Mojotone “DW Tomahawk” pickups. Made with a blend of ceramic and alnico magnets and a special winding technique, DW Tomahawks have plenty of output and big bottom end while remaining articulate and clear—a unique quality for high gain pickups. Paired with a volume and tone control and 5-way blade pickup selector which have all been shifted slightly to allow plenty of room to work the tremolo, the DW CE 24 “Floyd” is comfortable, fun and inspiring to play.'},\n",
       " 3: {'model': 'Gibson Custom Murphy Lab 1957 Les Paul Custom Reissue 3-Pickup Bigsby Light Aged Electric Guitar',\n",
       "  'description': 'The Gibson Custom 1957 Murphy Lab Les Paul Custom pays tribute to a guitar that Paul thought looked particularly good onstage. The '},\n",
       " 4: {'model': 'DW CE24 Hardtail Limited-Edition Electric Guitar',\n",
       "  'description': 'The limited-edition PRS DW CE 24 brings Dustie Waring’s signature specs to a tremless guitar. This signature model of the Between the Buried u0026amp; Me guitarist starts with the PRS CE 24 bolt-on platform, and includes a satin-finished maple neck with maple fretboard and a slightly modified Pattern Thin neck carve, plus a hardtail bridge which is exclusive to this limited-edition model. The pickups are Waring’s signature Mojotone DW Tomahawk Gen 2 pickups. Made with both ceramic and alnico magnets, and a special winding technique, DW Tomahawks have plenty of output and big bottom end while remaining articulate and clear—a notable quality for high-gain pickups. Paired with a volume and tone control, as well as a 5-way blade pickup selector, the DW CE 24 hardtail is menacing, sophisticated and addictive to play. The limited-edition DW CE 24 hardtail also comes with satin black hardware.'}}"
      ]
     },
     "execution_count": 21,
     "metadata": {},
     "output_type": "execute_result"
    }
   ],
   "source": [
    "guitar_dict"
   ]
  },
  {
   "cell_type": "code",
   "execution_count": 4,
   "metadata": {},
   "outputs": [],
   "source": [
    "with open(\"product_urls.txt\", \"r\") as file:\n",
    "    url_list = file.read().splitlines()"
   ]
  },
  {
   "cell_type": "code",
   "execution_count": 6,
   "metadata": {},
   "outputs": [
    {
     "name": "stdout",
     "output_type": "stream",
     "text": [
      "5582: /PRS/S2-Singlecut-McCarty-594-Electric-Guitar-McCarty-Sunburst-1500000315350.gc\n"
     ]
    },
    {
     "ename": "NameError",
     "evalue": "name 'os' is not defined",
     "output_type": "error",
     "traceback": [
      "\u001b[1;31m---------------------------------------------------------------------------\u001b[0m",
      "\u001b[1;31mNameError\u001b[0m                                 Traceback (most recent call last)",
      "\u001b[1;32mc:\\Users\\17204\\Documents\\git\\MSDS459_project\\scraper\\Development.ipynb Cell 35\u001b[0m in \u001b[0;36m<cell line: 2>\u001b[1;34m()\u001b[0m\n\u001b[0;32m     <a href='vscode-notebook-cell:/c%3A/Users/17204/Documents/git/MSDS459_project/scraper/Development.ipynb#X46sZmlsZQ%3D%3D?line=9'>10</a>\u001b[0m \u001b[39m# Save the HTML to a file.\u001b[39;00m\n\u001b[0;32m     <a href='vscode-notebook-cell:/c%3A/Users/17204/Documents/git/MSDS459_project/scraper/Development.ipynb#X46sZmlsZQ%3D%3D?line=10'>11</a>\u001b[0m \u001b[39m# Everything before the slash is the directory, everything after except the \".gc\" is the file name.\u001b[39;00m\n\u001b[0;32m     <a href='vscode-notebook-cell:/c%3A/Users/17204/Documents/git/MSDS459_project/scraper/Development.ipynb#X46sZmlsZQ%3D%3D?line=11'>12</a>\u001b[0m \u001b[39m# If the subdirectory doesn't exist, create it.\u001b[39;00m\n\u001b[0;32m     <a href='vscode-notebook-cell:/c%3A/Users/17204/Documents/git/MSDS459_project/scraper/Development.ipynb#X46sZmlsZQ%3D%3D?line=12'>13</a>\u001b[0m subDir \u001b[39m=\u001b[39m url_partial[\u001b[39m1\u001b[39m:url_partial\u001b[39m.\u001b[39mrfind(\u001b[39m'\u001b[39m\u001b[39m/\u001b[39m\u001b[39m'\u001b[39m)]\n\u001b[1;32m---> <a href='vscode-notebook-cell:/c%3A/Users/17204/Documents/git/MSDS459_project/scraper/Development.ipynb#X46sZmlsZQ%3D%3D?line=13'>14</a>\u001b[0m \u001b[39mif\u001b[39;00m \u001b[39mnot\u001b[39;00m os\u001b[39m.\u001b[39mpath\u001b[39m.\u001b[39mexists(\u001b[39mf\u001b[39m\u001b[39m\"\u001b[39m\u001b[39m{\u001b[39;00msaveDir\u001b[39m}\u001b[39;00m\u001b[39m/\u001b[39m\u001b[39m{\u001b[39;00msubDir\u001b[39m}\u001b[39;00m\u001b[39m\"\u001b[39m):\n\u001b[0;32m     <a href='vscode-notebook-cell:/c%3A/Users/17204/Documents/git/MSDS459_project/scraper/Development.ipynb#X46sZmlsZQ%3D%3D?line=14'>15</a>\u001b[0m     os\u001b[39m.\u001b[39mmakedirs(\u001b[39mf\u001b[39m\u001b[39m\"\u001b[39m\u001b[39m{\u001b[39;00msaveDir\u001b[39m}\u001b[39;00m\u001b[39m/\u001b[39m\u001b[39m{\u001b[39;00msubDir\u001b[39m}\u001b[39;00m\u001b[39m\"\u001b[39m)\n\u001b[0;32m     <a href='vscode-notebook-cell:/c%3A/Users/17204/Documents/git/MSDS459_project/scraper/Development.ipynb#X46sZmlsZQ%3D%3D?line=15'>16</a>\u001b[0m \u001b[39mwith\u001b[39;00m \u001b[39mopen\u001b[39m(\u001b[39mf\u001b[39m\u001b[39m\"\u001b[39m\u001b[39m{\u001b[39;00msaveDir\u001b[39m}\u001b[39;00m\u001b[39m/\u001b[39m\u001b[39m{\u001b[39;00murl_partial[\u001b[39m1\u001b[39m:\u001b[39m-\u001b[39m\u001b[39m3\u001b[39m]\u001b[39m}\u001b[39;00m\u001b[39m.html\u001b[39m\u001b[39m\"\u001b[39m, \u001b[39m\"\u001b[39m\u001b[39mw\u001b[39m\u001b[39m\"\u001b[39m, encoding\u001b[39m=\u001b[39m\u001b[39m'\u001b[39m\u001b[39mutf-8\u001b[39m\u001b[39m'\u001b[39m) \u001b[39mas\u001b[39;00m file:\n",
      "\u001b[1;31mNameError\u001b[0m: name 'os' is not defined"
     ]
    }
   ],
   "source": [
    "n_urls = len(url_list)\n",
    "for i in range(n_urls-10, n_urls): # can modify this to only download a subset of the urls at a time\n",
    "    # Construct the full URL\n",
    "    url_partial = url_list[i]\n",
    "    print(f\"{i}: {url_partial}\")\n",
    "    url = \"https://www.guitarcenter.com\" + url_partial\n",
    "    driver.get(url)\n",
    "    html = scrape_utils.gc_get_all_reviews(driver, url)\n",
    "\n",
    "    # Save the HTML to a file.\n",
    "    # Everything before the slash is the directory, everything after except the \".gc\" is the file name.\n",
    "    # If the subdirectory doesn't exist, create it.\n",
    "    subDir = url_partial[1:url_partial.rfind('/')]\n",
    "    if not os.path.exists(f\"{saveDir}/{subDir}\"):\n",
    "        os.makedirs(f\"{saveDir}/{subDir}\")\n",
    "    with open(f\"{saveDir}/{url_partial[1:-3]}.html\", \"w\", encoding='utf-8') as file:\n",
    "        file.write(html)"
   ]
  },
  {
   "cell_type": "code",
   "execution_count": 8,
   "metadata": {},
   "outputs": [],
   "source": [
    "driver.close()"
   ]
  },
  {
   "cell_type": "code",
   "execution_count": null,
   "metadata": {},
   "outputs": [],
   "source": []
  }
 ],
 "metadata": {
  "kernelspec": {
   "display_name": "MSDS",
   "language": "python",
   "name": "python3"
  },
  "language_info": {
   "codemirror_mode": {
    "name": "ipython",
    "version": 3
   },
   "file_extension": ".py",
   "mimetype": "text/x-python",
   "name": "python",
   "nbconvert_exporter": "python",
   "pygments_lexer": "ipython3",
   "version": "3.9.13"
  },
  "orig_nbformat": 4
 },
 "nbformat": 4,
 "nbformat_minor": 2
}
