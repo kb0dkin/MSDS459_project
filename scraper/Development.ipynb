{
 "cells": [
  {
   "cell_type": "code",
   "execution_count": 1,
   "metadata": {},
   "outputs": [],
   "source": [
    "# scraper.py\n",
    "#\n",
    "# Scrapes data about guitars and reviews from a few different sources,\n",
    "# then uses that data to populate an EdgeDB instance\n",
    "#\n",
    "# Much of the scraper code is just refactoring of Joe's GuitarCenter code, \n",
    "# put into a little more organized piece of code\n",
    "\n",
    "\n",
    "from selenium import webdriver\n",
    "from selenium.webdriver.firefox.options import Options\n",
    "# import time\n",
    "from bs4 import BeautifulSoup\n",
    "import edgedb\n",
    "import os\n",
    "from os import path\n",
    "\n",
    "import numpy as np\n",
    "# import json\n"
   ]
  },
  {
   "cell_type": "code",
   "execution_count": 2,
   "metadata": {},
   "outputs": [],
   "source": [
    "\n",
    "# local import\n",
    "import scrape_utils\n",
    "# import class_definitions\n"
   ]
  },
  {
   "cell_type": "code",
   "execution_count": 3,
   "metadata": {},
   "outputs": [],
   "source": [
    "\n",
    "\n",
    "# create new instance of firefox driver -- this should be the geckodriver\n",
    "options = Options()\n",
    "options.binary_location = r\"C:\\\\Program Files\\\\Mozilla Firefox\\\\firefox.exe\"\n",
    "options.headless = True\n",
    "# options.set_headless(True)\n",
    "driver = webdriver.Firefox(executable_path=\"C:\\Program Files\\GeckoDriver\\geckodriver.exe\", options=options)\n",
    "\n",
    "# driver.manage()"
   ]
  },
  {
   "cell_type": "code",
   "execution_count": null,
   "metadata": {},
   "outputs": [],
   "source": [
    "\n",
    "# ---------------------------------------------------\n",
    "# start with guitarcenter\n",
    "# ---------------------------------------------------\n",
    "\n",
    "url_list = [] #  list of guitar urls\n",
    "guitars = [] # list of guitars\n",
    "# iterate over the range of \"Nao\" values, get links to all guitars\n",
    "# for ii in range(0, 4400, 100):\n",
    "for ii in range(0,100,100): # temp testing\n",
    "    html = scrape_utils.gc_get_browsing_pages(driver, ii) # get the html doc\n",
    "\n",
    "    url_list.append(scrape_utils.gc_extract_links(html)) # append the list of matches\n",
    "\n",
    "# make it unique -- without numpy\n",
    "url_list = list(set([item for sublist in url_list for item in sublist]))"
   ]
  },
  {
   "cell_type": "code",
   "execution_count": 4,
   "metadata": {},
   "outputs": [],
   "source": [
    "client = edgedb.create_client(dsn='MSDS_459')"
   ]
  },
  {
   "cell_type": "code",
   "execution_count": null,
   "metadata": {},
   "outputs": [],
   "source": [
    "client.query(\"\"\" INSERT ReviewSource {\n",
    "                    name := <str>'Guitar Center',\n",
    "                    sourceType := <default::SourceType>'Vendor',\n",
    "            } UNLESS CONFLICT \"\"\")\n",
    "\n",
    "# create a \"Guitar Center\" vendor\n",
    "client.query(\"\"\" INSERT Vendor {\n",
    "                    name := <str>'Guitar Center',\n",
    "            } UNLESS CONFLICT \"\"\")"
   ]
  },
  {
   "cell_type": "code",
   "execution_count": null,
   "metadata": {},
   "outputs": [],
   "source": [
    "from importlib import reload\n",
    "reload(scrape_utils)\n",
    "reload(scrape_utils.class_definitions)\n",
    "# reload(class_definitions)"
   ]
  },
  {
   "cell_type": "code",
   "execution_count": null,
   "metadata": {},
   "outputs": [],
   "source": [
    "for url_i,url in enumerate(url_list):\n",
    "    if url_i < 100:\n",
    "        html = scrape_utils.gc_get_all_reviews(driver, url)  \n",
    "        reviews = scrape_utils.gc_extract_review_info(html) # parse the review info\n",
    "        guitar = scrape_utils.gc_extract_guitar_info(url, html) # parse the specs for the guitar\n",
    "\n",
    "        guitar_id = guitar.insert(client)\n",
    "\n",
    "\n",
    "        for review in reviews:\n",
    "            review.insert(guitar_id, client)"
   ]
  },
  {
   "cell_type": "code",
   "execution_count": null,
   "metadata": {},
   "outputs": [],
   "source": [
    "url = url_list[1]\n",
    "html = scrape_utils.gc_get_all_reviews(driver, url)  \n",
    "reviews = scrape_utils.gc_extract_review_info(html) # parse the review info\n",
    "guitar = scrape_utils.gc_extract_guitar_info(url, html) # parse the specs for the guitar"
   ]
  },
  {
   "cell_type": "code",
   "execution_count": null,
   "metadata": {},
   "outputs": [],
   "source": [
    "guitar_id = guitar.insert(client)"
   ]
  },
  {
   "cell_type": "code",
   "execution_count": null,
   "metadata": {},
   "outputs": [],
   "source": []
  },
  {
   "cell_type": "code",
   "execution_count": null,
   "metadata": {},
   "outputs": [],
   "source": [
    "for review in reviews:\n",
    "    review.insert(guitar_id, client)"
   ]
  },
  {
   "cell_type": "code",
   "execution_count": null,
   "metadata": {},
   "outputs": [],
   "source": [
    "rating = review.rating if review.rating is not None else float()\n",
    "rev_date = review.date if review.date is not None else str()\n",
    "pros = review.pros if len(review.pros) > 0 else edgedb.Set()\n",
    "cons = review.cons if len(review.cons) > 0 else edgedb.Set()\n",
    "best_for = review.best_for if len(review.best_for) > 0 else edgedb.Set()\n",
    "text = review.text if review.text is not None else str()\n",
    "\n",
    "query_str = \"\"\"INSERT Review {\n",
    "                normalized_rating := <float64>$rating,\n",
    "                date := <std::datetime>$rev_date, \n",
    "                pros := <array<str>>$pros,\n",
    "                cons := <array<str>>$cons,\n",
    "                best_for := <array<str>>$best_for,\n",
    "                written_review := <str>$text,\n",
    "                guitar := (\n",
    "                    SELECT Guitar\n",
    "                    filter .id = <uuid>$guitar_id\n",
    "                    ),\n",
    "                source :=(\n",
    "                    SELECT ReviewSource\n",
    "                    filter .name = <str>$review_source\n",
    "                ),\n",
    "                }\n",
    "                \"\"\"\n",
    "return_val = client.query(query_str, rating=rating, rev_date=rev_date, pros=pros,\\\n",
    "             cons = cons, best_for = best_for, text = text, guitar_id = guitar_id[0].id, review_source = review.review_source)\n"
   ]
  },
  {
   "cell_type": "code",
   "execution_count": null,
   "metadata": {},
   "outputs": [],
   "source": [
    "review.review_source"
   ]
  },
  {
   "cell_type": "code",
   "execution_count": null,
   "metadata": {},
   "outputs": [],
   "source": [
    "query_str = \"\"\"INSERT Review {\n",
    "                normalized_rating := <float64>$rating,\n",
    "                date := <std::datetime>$rev_date, \n",
    "                pros := <array<str>>$pros,\n",
    "                cons := <array<str>>$cons,\n",
    "                best_for := <array<str>>$best_for,\n",
    "                written_review := <str>$text,\n",
    "                guitar := (\n",
    "                    SELECT Guitar\n",
    "                    filter .id = <uuid>$guitar_id\n",
    "                    ),\n",
    "                source :=(\n",
    "                    SELECT ReviewSource\n",
    "                    filter .name = <str>$review_source\n",
    "                ),\n",
    "                }\n",
    "                \"\"\"\n",
    "return_val = client.query(query_str, rating=rating, rev_date=rev_date, pros=pros,\\\n",
    "             cons = cons, best_for = best_for, text = text, guitar_id = guitar_id, review_source = review.review_source)\n"
   ]
  },
  {
   "cell_type": "code",
   "execution_count": null,
   "metadata": {},
   "outputs": [],
   "source": [
    "import re"
   ]
  },
  {
   "cell_type": "code",
   "execution_count": null,
   "metadata": {},
   "outputs": [],
   "source": [
    "match = re.search(r'[C|c]lassical',guitar.model)"
   ]
  },
  {
   "cell_type": "code",
   "execution_count": null,
   "metadata": {},
   "outputs": [],
   "source": [
    "match.group(0)"
   ]
  },
  {
   "cell_type": "code",
   "execution_count": null,
   "metadata": {},
   "outputs": [],
   "source": [
    "\n",
    "driver.close()\n",
    "client.close()"
   ]
  },
  {
   "cell_type": "code",
   "execution_count": null,
   "metadata": {},
   "outputs": [],
   "source": [
    "client = edgedb.create_client(dsn='MSDS_459')\n",
    "\n",
    "query_string = '''WITH pickups := \n",
    "            (SELECT Guitar.pickups filter Guitar.pickups != '')\n",
    "            \n",
    "            SELECT DISTINCT pickups;\n",
    "            '''\n",
    "cutaways = client.query(query_string)"
   ]
  },
  {
   "cell_type": "code",
   "execution_count": null,
   "metadata": {},
   "outputs": [],
   "source": [
    "resp = client.query(query_string)"
   ]
  },
  {
   "cell_type": "code",
   "execution_count": null,
   "metadata": {},
   "outputs": [],
   "source": [
    "if len(client.query(f\"SELECT Guitar filter .model = 'Ernie' \")):\n",
    "    print('Responses!')\n",
    "else:\n",
    "    print('Nothing!')"
   ]
  },
  {
   "cell_type": "code",
   "execution_count": null,
   "metadata": {},
   "outputs": [],
   "source": [
    "search_dict = dict()\n",
    "\n",
    "guitar_props = ['body_shape','cutaway','pickups']\n",
    "\n",
    "for prop in guitar_props:\n",
    "    query_string = f\"\"\"WITH property :=\n",
    "            (SELECT Guitar.{prop} filter Guitar.{prop} != '')\n",
    "            SELECT DISTINCT property\"\"\"\n",
    "\n",
    "    search_dict[prop] = client.query(query_string)    \n"
   ]
  },
  {
   "cell_type": "code",
   "execution_count": null,
   "metadata": {},
   "outputs": [],
   "source": [
    "# find valid entries for all \"string\" fields\n",
    "str_props = ['body_shape','cutaway','pickups', 'type', 'country_of_origin']\n",
    "for prop in str_props:\n",
    "    query_string = f'''WITH prop :=\n",
    "            (SELECT str_lower(Guitar.{prop}) filter Guitar.{prop} != '')\n",
    "            SELECT DISTINCT prop'''\n",
    "    search_dict[prop] = client.query(query_string)"
   ]
  },
  {
   "cell_type": "code",
   "execution_count": null,
   "metadata": {},
   "outputs": [],
   "source": [
    "search_dict"
   ]
  },
  {
   "cell_type": "code",
   "execution_count": null,
   "metadata": {},
   "outputs": [],
   "source": [
    "num_props = ['num_strings','scale_length','num_frets']\n",
    "for prop in num_props:\n",
    "    query_string = f'''WITH prop :=\n",
    "            (SELECT Guitar.{prop} filter Guitar.{prop} != 0)\n",
    "            SELECT DISTINCT prop'''\n",
    "    search_dict[prop] = client.query(query_string)\n",
    "\n",
    "search_dict"
   ]
  },
  {
   "cell_type": "code",
   "execution_count": null,
   "metadata": {},
   "outputs": [],
   "source": [
    "test_str = 'Acoustic-electric'\n",
    "match = re.search('[A|a]coustic[ |-][E|e]lectric', test_str).group(0)\n",
    "match"
   ]
  },
  {
   "cell_type": "code",
   "execution_count": null,
   "metadata": {},
   "outputs": [],
   "source": [
    "search_dict"
   ]
  },
  {
   "cell_type": "code",
   "execution_count": null,
   "metadata": {},
   "outputs": [],
   "source": [
    "query_str = 'SELECT Guitar {model, description} filter .type in {\"Electric\"} limit 5;'\n",
    "with edgedb.create_client(dsn='MSDS_459') as client:\n",
    "\n",
    "    guitars = client.query(query_str)"
   ]
  },
  {
   "cell_type": "code",
   "execution_count": 5,
   "metadata": {},
   "outputs": [
    {
     "name": "stdout",
     "output_type": "stream",
     "text": [
      "List of Guitars and URLs read from product_urls.txt\n"
     ]
    }
   ],
   "source": [
    "saveDir = '../product_pages_full'\n",
    "url_file = 'product_urls.txt'\n",
    "with open(url_file, \"r\") as file:\n",
    "    url_list = file.read().splitlines()\n",
    "print(f'List of Guitars and URLs read from {url_file}')"
   ]
  },
  {
   "cell_type": "code",
   "execution_count": null,
   "metadata": {},
   "outputs": [],
   "source": [
    "save_name = f\"{saveDir}{path.splitext(url_partial)[0]}.html\"\n",
    "# not path.exists(save_name)\n",
    "save_name\n",
    "subDir = path.split(url_partial)[0]\n",
    "saveDir + subDir"
   ]
  },
  {
   "cell_type": "code",
   "execution_count": 6,
   "metadata": {},
   "outputs": [
    {
     "name": "stdout",
     "output_type": "stream",
     "text": [
      "Downloading HTML pages for 1000 pages\n",
      "[-----               ]   /Reverend/Reeves-Gabrels-Dirtbike-Royale-Electric-Guitar-Feline-Grey-1500000362216.gcc0383218.gcctric-Guitar-Mariana-1500000389055.gc09.gc58.gc\r"
     ]
    },
    {
     "ename": "TimeoutException",
     "evalue": "Message: TimedPromise timed out after 300000 ms\n",
     "output_type": "error",
     "traceback": [
      "\u001b[1;31m---------------------------------------------------------------------------\u001b[0m",
      "\u001b[1;31mTimeoutException\u001b[0m                          Traceback (most recent call last)",
      "\u001b[1;32mc:\\Users\\17204\\Documents\\git\\MSDS459_project\\scraper\\Development.ipynb Cell 32\u001b[0m in \u001b[0;36m<cell line: 8>\u001b[1;34m()\u001b[0m\n\u001b[0;32m     <a href='vscode-notebook-cell:/c%3A/Users/17204/Documents/git/MSDS459_project/scraper/Development.ipynb#X43sZmlsZQ%3D%3D?line=15'>16</a>\u001b[0m \u001b[39mif\u001b[39;00m \u001b[39mnot\u001b[39;00m path\u001b[39m.\u001b[39mexists(save_name): \u001b[39m# skip if the file exists\u001b[39;00m\n\u001b[0;32m     <a href='vscode-notebook-cell:/c%3A/Users/17204/Documents/git/MSDS459_project/scraper/Development.ipynb#X43sZmlsZQ%3D%3D?line=16'>17</a>\u001b[0m \n\u001b[0;32m     <a href='vscode-notebook-cell:/c%3A/Users/17204/Documents/git/MSDS459_project/scraper/Development.ipynb#X43sZmlsZQ%3D%3D?line=17'>18</a>\u001b[0m     \u001b[39m# Construct the full URL\u001b[39;00m\n\u001b[0;32m     <a href='vscode-notebook-cell:/c%3A/Users/17204/Documents/git/MSDS459_project/scraper/Development.ipynb#X43sZmlsZQ%3D%3D?line=18'>19</a>\u001b[0m     url \u001b[39m=\u001b[39m \u001b[39m\"\u001b[39m\u001b[39mhttps://www.guitarcenter.com\u001b[39m\u001b[39m\"\u001b[39m \u001b[39m+\u001b[39m url_partial\n\u001b[1;32m---> <a href='vscode-notebook-cell:/c%3A/Users/17204/Documents/git/MSDS459_project/scraper/Development.ipynb#X43sZmlsZQ%3D%3D?line=19'>20</a>\u001b[0m     driver\u001b[39m.\u001b[39;49mget(url)\n\u001b[0;32m     <a href='vscode-notebook-cell:/c%3A/Users/17204/Documents/git/MSDS459_project/scraper/Development.ipynb#X43sZmlsZQ%3D%3D?line=20'>21</a>\u001b[0m     html \u001b[39m=\u001b[39m scrape_utils\u001b[39m.\u001b[39mgc_get_all_reviews(driver, url)\n\u001b[0;32m     <a href='vscode-notebook-cell:/c%3A/Users/17204/Documents/git/MSDS459_project/scraper/Development.ipynb#X43sZmlsZQ%3D%3D?line=22'>23</a>\u001b[0m     \u001b[39m# create a directory as needed\u001b[39;00m\n",
      "File \u001b[1;32mc:\\Users\\17204\\miniconda3\\envs\\MSDS\\lib\\site-packages\\selenium\\webdriver\\remote\\webdriver.py:333\u001b[0m, in \u001b[0;36mWebDriver.get\u001b[1;34m(self, url)\u001b[0m\n\u001b[0;32m    329\u001b[0m \u001b[39mdef\u001b[39;00m \u001b[39mget\u001b[39m(\u001b[39mself\u001b[39m, url):\n\u001b[0;32m    330\u001b[0m     \u001b[39m\"\"\"\u001b[39;00m\n\u001b[0;32m    331\u001b[0m \u001b[39m    Loads a web page in the current browser session.\u001b[39;00m\n\u001b[0;32m    332\u001b[0m \u001b[39m    \"\"\"\u001b[39;00m\n\u001b[1;32m--> 333\u001b[0m     \u001b[39mself\u001b[39;49m\u001b[39m.\u001b[39;49mexecute(Command\u001b[39m.\u001b[39;49mGET, {\u001b[39m'\u001b[39;49m\u001b[39murl\u001b[39;49m\u001b[39m'\u001b[39;49m: url})\n",
      "File \u001b[1;32mc:\\Users\\17204\\miniconda3\\envs\\MSDS\\lib\\site-packages\\selenium\\webdriver\\remote\\webdriver.py:321\u001b[0m, in \u001b[0;36mWebDriver.execute\u001b[1;34m(self, driver_command, params)\u001b[0m\n\u001b[0;32m    319\u001b[0m response \u001b[39m=\u001b[39m \u001b[39mself\u001b[39m\u001b[39m.\u001b[39mcommand_executor\u001b[39m.\u001b[39mexecute(driver_command, params)\n\u001b[0;32m    320\u001b[0m \u001b[39mif\u001b[39;00m response:\n\u001b[1;32m--> 321\u001b[0m     \u001b[39mself\u001b[39;49m\u001b[39m.\u001b[39;49merror_handler\u001b[39m.\u001b[39;49mcheck_response(response)\n\u001b[0;32m    322\u001b[0m     response[\u001b[39m'\u001b[39m\u001b[39mvalue\u001b[39m\u001b[39m'\u001b[39m] \u001b[39m=\u001b[39m \u001b[39mself\u001b[39m\u001b[39m.\u001b[39m_unwrap_value(\n\u001b[0;32m    323\u001b[0m         response\u001b[39m.\u001b[39mget(\u001b[39m'\u001b[39m\u001b[39mvalue\u001b[39m\u001b[39m'\u001b[39m, \u001b[39mNone\u001b[39;00m))\n\u001b[0;32m    324\u001b[0m     \u001b[39mreturn\u001b[39;00m response\n",
      "File \u001b[1;32mc:\\Users\\17204\\miniconda3\\envs\\MSDS\\lib\\site-packages\\selenium\\webdriver\\remote\\errorhandler.py:242\u001b[0m, in \u001b[0;36mErrorHandler.check_response\u001b[1;34m(self, response)\u001b[0m\n\u001b[0;32m    240\u001b[0m         alert_text \u001b[39m=\u001b[39m value[\u001b[39m'\u001b[39m\u001b[39malert\u001b[39m\u001b[39m'\u001b[39m]\u001b[39m.\u001b[39mget(\u001b[39m'\u001b[39m\u001b[39mtext\u001b[39m\u001b[39m'\u001b[39m)\n\u001b[0;32m    241\u001b[0m     \u001b[39mraise\u001b[39;00m exception_class(message, screen, stacktrace, alert_text)\n\u001b[1;32m--> 242\u001b[0m \u001b[39mraise\u001b[39;00m exception_class(message, screen, stacktrace)\n",
      "\u001b[1;31mTimeoutException\u001b[0m: Message: TimedPromise timed out after 300000 ms\n"
     ]
    }
   ],
   "source": [
    "n_urls = len(url_list)\n",
    "scrape_start = n_urls-1000\n",
    "scrape_end = n_urls\n",
    "len_scrape = scrape_end-scrape_start\n",
    "\n",
    "print(f'Downloading HTML pages for {len_scrape} pages')\n",
    "status_steps = np.ceil(len_scrape/20)\n",
    "vpn_count = 1\n",
    "for i_url,url_partial in enumerate(url_list[scrape_start:scrape_end]): # can modify this to only download a subset of the urls at a time\n",
    "\n",
    "    # a nice little status bar :)\n",
    "    curr_status = int(np.ceil(i_url/status_steps))\n",
    "    print(f\"[{curr_status*'-'}{(20-curr_status)*' '}]   {url_partial}\",end='\\r')    \n",
    "\n",
    "    # check if file exists, skip if it's around\n",
    "    save_name = f\"{saveDir}{path.splitext(url_partial)[0]}.html\"\n",
    "    if not path.exists(save_name): # skip if the file exists\n",
    "\n",
    "        try:\n",
    "            # Construct the full URL\n",
    "            url = \"https://www.guitarcenter.com\" + url_partial\n",
    "            driver.get(url)\n",
    "            html = scrape_utils.gc_get_all_reviews(driver, url)\n",
    "\n",
    "            # create a directory as needed\n",
    "            subDir = path.split(url_partial)[0]\n",
    "            if not path.exists(saveDir + subDir):\n",
    "                os.makedirs(f\"{saveDir}{subDir}\")\n",
    "            with open(save_name, \"w\", encoding='utf-8') as file:\n",
    "                file.write(html)\n",
    "\n",
    "        except TimeoutError:\n",
    "            print('Time to change the VPN')\n",
    "            os.system(f'mullvad relay set hostname us-chi-00{vpn_count%5+1}')\n",
    "            vpn_count += 1\n",
    "\n",
    "\n",
    "\n",
    "\n"
   ]
  },
  {
   "cell_type": "code",
   "execution_count": 14,
   "metadata": {},
   "outputs": [],
   "source": [
    "driver.close()"
   ]
  },
  {
   "cell_type": "code",
   "execution_count": 13,
   "metadata": {},
   "outputs": [
    {
     "name": "stdout",
     "output_type": "stream",
     "text": [
      "Adding guitars to the database\n"
     ]
    },
    {
     "ename": "IndexError",
     "evalue": "list index out of range",
     "output_type": "error",
     "traceback": [
      "\u001b[1;31m---------------------------------------------------------------------------\u001b[0m",
      "\u001b[1;31mIndexError\u001b[0m                                Traceback (most recent call last)",
      "\u001b[1;32mc:\\Users\\17204\\Documents\\git\\MSDS459_project\\scraper\\Development.ipynb Cell 34\u001b[0m in \u001b[0;36m<cell line: 6>\u001b[1;34m()\u001b[0m\n\u001b[0;32m     <a href='vscode-notebook-cell:/c%3A/Users/17204/Documents/git/MSDS459_project/scraper/Development.ipynb#X52sZmlsZQ%3D%3D?line=11'>12</a>\u001b[0m     html \u001b[39m=\u001b[39m file\u001b[39m.\u001b[39mread()\n\u001b[0;32m     <a href='vscode-notebook-cell:/c%3A/Users/17204/Documents/git/MSDS459_project/scraper/Development.ipynb#X52sZmlsZQ%3D%3D?line=13'>14</a>\u001b[0m reviews \u001b[39m=\u001b[39m scrape_utils\u001b[39m.\u001b[39mgc_extract_review_info(html) \u001b[39m# parse the review info\u001b[39;00m\n\u001b[1;32m---> <a href='vscode-notebook-cell:/c%3A/Users/17204/Documents/git/MSDS459_project/scraper/Development.ipynb#X52sZmlsZQ%3D%3D?line=14'>15</a>\u001b[0m guitar \u001b[39m=\u001b[39m scrape_utils\u001b[39m.\u001b[39;49mgc_extract_guitar_info(url, html) \u001b[39m# parse the specs for the guitar\u001b[39;00m\n\u001b[0;32m     <a href='vscode-notebook-cell:/c%3A/Users/17204/Documents/git/MSDS459_project/scraper/Development.ipynb#X52sZmlsZQ%3D%3D?line=15'>16</a>\u001b[0m \u001b[39m# print(guitar.scale_length)\u001b[39;00m\n\u001b[0;32m     <a href='vscode-notebook-cell:/c%3A/Users/17204/Documents/git/MSDS459_project/scraper/Development.ipynb#X52sZmlsZQ%3D%3D?line=17'>18</a>\u001b[0m \u001b[39mif\u001b[39;00m \u001b[39mlen\u001b[39m(client\u001b[39m.\u001b[39mquery(\u001b[39m\"\u001b[39m\u001b[39mSELECT Guitar filter .model = <str>$model\u001b[39m\u001b[39m\"\u001b[39m, model\u001b[39m=\u001b[39mguitar\u001b[39m.\u001b[39mmodel)) \u001b[39m==\u001b[39m \u001b[39m0\u001b[39m:\n",
      "File \u001b[1;32mc:\\Users\\17204\\Documents\\git\\MSDS459_project\\scraper\\scrape_utils.py:138\u001b[0m, in \u001b[0;36mgc_extract_guitar_info\u001b[1;34m(url, html)\u001b[0m\n\u001b[0;32m    136\u001b[0m     features_raw \u001b[39m=\u001b[39m \u001b[39m\"\u001b[39m\u001b[39m\"\u001b[39m\n\u001b[0;32m    137\u001b[0m \u001b[39melse\u001b[39;00m:\n\u001b[1;32m--> 138\u001b[0m     features_raw \u001b[39m=\u001b[39m match[\u001b[39m-\u001b[39;49m\u001b[39m1\u001b[39;49m] \u001b[39m# if there are two, take the second one\u001b[39;00m\n\u001b[0;32m    139\u001b[0m feature_list \u001b[39m=\u001b[39m fix_features(extract_strings(features_raw))\n\u001b[0;32m    140\u001b[0m feature_dict \u001b[39m=\u001b[39m feature_list_to_dict(feature_list) \u001b[39m# convert to a dict\u001b[39;00m\n",
      "\u001b[1;31mIndexError\u001b[0m: list index out of range"
     ]
    }
   ],
   "source": [
    "print(\"Adding guitars to the database\")\n",
    "add_list = []\n",
    "skip_list = []\n",
    "miss_list = []\n",
    "fail_list = []\n",
    "for url in url_list:\n",
    "\n",
    "    # check to make sure that we have scraped the html\n",
    "    url_file = f\"{saveDir}/{url[1:-3]}.html\"\n",
    "    if path.exists(url_file):\n",
    "        with open(url_file, \"r\", encoding='utf-8') as file:\n",
    "            html = file.read()\n",
    "\n",
    "        reviews = scrape_utils.gc_extract_review_info(html) # parse the review info\n",
    "        guitar = scrape_utils.gc_extract_guitar_info(url, html) # parse the specs for the guitar\n",
    "        # print(guitar.scale_length)\n",
    "\n",
    "        if len(client.query(\"SELECT Guitar filter .model = <str>$model\", model=guitar.model)) == 0:\n",
    "            try:\n",
    "                guitar_id = guitar.insert(client) # insert the guitar, get the uuid\n",
    "\n",
    "                for review in reviews: # insert all reviews\n",
    "                    review.insert(guitar_id, client)\n",
    "                \n",
    "                add_list.append(url) # keep track of what has been added\n",
    "\n",
    "            except:\n",
    "                # print(f'Could not insert guitar {guitar.model}')\n",
    "                fail_list.append(url)\n",
    "        else:\n",
    "            skip_list.append(url)\n",
    "\n",
    "    else:\n",
    "        # print(f\"{url_file} has not been downloaded\")\n",
    "        miss_list.append(url)\n",
    "\n",
    "print('Upload Statistics:')\n",
    "print(f\"\\t{len(add_list)} Guitars added\")\n",
    "print(f\"\\t{len(skip_list)} Guitars were already in the database\")\n",
    "print(f\"\\t{len(miss_list)} html files were missing\")\n",
    "print(f\"\\t{len(fail_list)} attempts failed for unknown reasons\")\n"
   ]
  },
  {
   "cell_type": "code",
   "execution_count": 7,
   "metadata": {},
   "outputs": [
    {
     "data": {
      "text/plain": [
       "\"SELECT Guitar filter .model = 'D'Angelico Deluxe Series Mini DC Limited-Edition Semi-Hollow Electric Guitar'\""
      ]
     },
     "execution_count": 7,
     "metadata": {},
     "output_type": "execute_result"
    }
   ],
   "source": [
    "f\"SELECT Guitar filter .model = '{guitar.model}'\""
   ]
  },
  {
   "cell_type": "code",
   "execution_count": 23,
   "metadata": {},
   "outputs": [
    {
     "ename": "NameError",
     "evalue": "name 'guitar' is not defined",
     "output_type": "error",
     "traceback": [
      "\u001b[1;31m---------------------------------------------------------------------------\u001b[0m",
      "\u001b[1;31mNameError\u001b[0m                                 Traceback (most recent call last)",
      "\u001b[1;32mc:\\Users\\17204\\Documents\\git\\MSDS459_project\\scraper\\Development.ipynb Cell 36\u001b[0m in \u001b[0;36m<cell line: 1>\u001b[1;34m()\u001b[0m\n\u001b[1;32m----> <a href='vscode-notebook-cell:/c%3A/Users/17204/Documents/git/MSDS459_project/scraper/Development.ipynb#X50sZmlsZQ%3D%3D?line=0'>1</a>\u001b[0m \u001b[39mlen\u001b[39m(client\u001b[39m.\u001b[39mquery(\u001b[39m\"\u001b[39m\u001b[39mSELECT Guitar filter .model = <str>$model\u001b[39m\u001b[39m\"\u001b[39m, model\u001b[39m=\u001b[39mguitar\u001b[39m.\u001b[39mmodel))\n",
      "\u001b[1;31mNameError\u001b[0m: name 'guitar' is not defined"
     ]
    }
   ],
   "source": [
    "len(client.query(\"SELECT Guitar filter .model = <str>$model\", model=guitar.model))"
   ]
  },
  {
   "cell_type": "code",
   "execution_count": 8,
   "metadata": {},
   "outputs": [
    {
     "ename": "TypeError",
     "evalue": "stat: path should be string, bytes, os.PathLike or integer, not tuple",
     "output_type": "error",
     "traceback": [
      "\u001b[1;31m---------------------------------------------------------------------------\u001b[0m",
      "\u001b[1;31mTypeError\u001b[0m                                 Traceback (most recent call last)",
      "\u001b[1;32mc:\\Users\\17204\\Documents\\git\\MSDS459_project\\scraper\\Development.ipynb Cell 37\u001b[0m in \u001b[0;36m<cell line: 1>\u001b[1;34m()\u001b[0m\n\u001b[1;32m----> <a href='vscode-notebook-cell:/c%3A/Users/17204/Documents/git/MSDS459_project/scraper/Development.ipynb#X51sZmlsZQ%3D%3D?line=0'>1</a>\u001b[0m aa \u001b[39m=\u001b[39m [ item \u001b[39mfor\u001b[39;00m item \u001b[39min\u001b[39;00m os\u001b[39m.\u001b[39mwalk(saveDir) \u001b[39mif\u001b[39;00m path\u001b[39m.\u001b[39misfile(item)]\n",
      "\u001b[1;32mc:\\Users\\17204\\Documents\\git\\MSDS459_project\\scraper\\Development.ipynb Cell 37\u001b[0m in \u001b[0;36m<listcomp>\u001b[1;34m(.0)\u001b[0m\n\u001b[1;32m----> <a href='vscode-notebook-cell:/c%3A/Users/17204/Documents/git/MSDS459_project/scraper/Development.ipynb#X51sZmlsZQ%3D%3D?line=0'>1</a>\u001b[0m aa \u001b[39m=\u001b[39m [ item \u001b[39mfor\u001b[39;00m item \u001b[39min\u001b[39;00m os\u001b[39m.\u001b[39mwalk(saveDir) \u001b[39mif\u001b[39;00m path\u001b[39m.\u001b[39;49misfile(item)]\n",
      "File \u001b[1;32mc:\\Users\\17204\\miniconda3\\envs\\MSDS\\lib\\genericpath.py:30\u001b[0m, in \u001b[0;36misfile\u001b[1;34m(path)\u001b[0m\n\u001b[0;32m     28\u001b[0m \u001b[39m\"\"\"Test whether a path is a regular file\"\"\"\u001b[39;00m\n\u001b[0;32m     29\u001b[0m \u001b[39mtry\u001b[39;00m:\n\u001b[1;32m---> 30\u001b[0m     st \u001b[39m=\u001b[39m os\u001b[39m.\u001b[39;49mstat(path)\n\u001b[0;32m     31\u001b[0m \u001b[39mexcept\u001b[39;00m (\u001b[39mOSError\u001b[39;00m, \u001b[39mValueError\u001b[39;00m):\n\u001b[0;32m     32\u001b[0m     \u001b[39mreturn\u001b[39;00m \u001b[39mFalse\u001b[39;00m\n",
      "\u001b[1;31mTypeError\u001b[0m: stat: path should be string, bytes, os.PathLike or integer, not tuple"
     ]
    }
   ],
   "source": [
    "aa = [ item for item in os.walk(saveDir) if path.isfile(item)]\n"
   ]
  },
  {
   "cell_type": "code",
   "execution_count": 16,
   "metadata": {},
   "outputs": [
    {
     "name": "stdout",
     "output_type": "stream",
     "text": [
      "212\n"
     ]
    }
   ],
   "source": [
    "files = []\n",
    "for response in os.walk(saveDir):\n",
    "    files.append([item for item in response[2]])\n",
    "\n",
    "files = [file for sublist in files for file in sublist]\n",
    "print(len(files))"
   ]
  },
  {
   "cell_type": "code",
   "execution_count": 4,
   "metadata": {},
   "outputs": [
    {
     "data": {
      "text/plain": [
       "0"
      ]
     },
     "execution_count": 4,
     "metadata": {},
     "output_type": "execute_result"
    }
   ],
   "source": [
    "import os\n",
    "os.system('mullvad relay set hostname us-chi-003')"
   ]
  },
  {
   "cell_type": "code",
   "execution_count": 22,
   "metadata": {},
   "outputs": [],
   "source": [
    "server_list = ['us-chi-001 ',\\\n",
    "              'us-chi-002 ',\\\n",
    "              'us-chi-003',\\\n",
    "              'us-chi-004',\\\n",
    "              'us-chi-005',\\\n",
    "              'us-chi-wg-101 ',\\\n",
    "              'us-chi-wg-102',\\\n",
    "              'us-chi-wg-103 ',\\\n",
    "              'us-chi-wg-104',\\\n",
    "              'us-chi-wg-201 ',\\\n",
    "              'us-chi-wg-202 ',\\\n",
    "              'us-chi-wg-203,']"
   ]
  },
  {
   "cell_type": "code",
   "execution_count": null,
   "metadata": {},
   "outputs": [],
   "source": []
  }
 ],
 "metadata": {
  "kernelspec": {
   "display_name": "MSDS",
   "language": "python",
   "name": "python3"
  },
  "language_info": {
   "codemirror_mode": {
    "name": "ipython",
    "version": 3
   },
   "file_extension": ".py",
   "mimetype": "text/x-python",
   "name": "python",
   "nbconvert_exporter": "python",
   "pygments_lexer": "ipython3",
   "version": "3.9.13"
  },
  "orig_nbformat": 4
 },
 "nbformat": 4,
 "nbformat_minor": 2
}
