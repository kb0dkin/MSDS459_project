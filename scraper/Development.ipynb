{
 "cells": [
  {
   "cell_type": "code",
   "execution_count": 3,
   "metadata": {},
   "outputs": [],
   "source": [
    "# scraper.py\n",
    "#\n",
    "# Scrapes data about guitars and reviews from a few different sources,\n",
    "# then uses that data to populate an EdgeDB instance\n",
    "#\n",
    "# Much of the scraper code is just refactoring of Joe's GuitarCenter code, \n",
    "# put into a little more organized piece of code\n",
    "\n",
    "\n",
    "from selenium import webdriver\n",
    "from selenium.webdriver.firefox.options import Options\n",
    "# import time\n",
    "from bs4 import BeautifulSoup\n",
    "import edgedb\n",
    "import numpy as np\n",
    "# import json\n"
   ]
  },
  {
   "cell_type": "code",
   "execution_count": 2,
   "metadata": {},
   "outputs": [],
   "source": [
    "\n",
    "# local import\n",
    "import scrape_utils\n",
    "# import class_definitions\n"
   ]
  },
  {
   "cell_type": "code",
   "execution_count": 3,
   "metadata": {},
   "outputs": [
    {
     "name": "stderr",
     "output_type": "stream",
     "text": [
      "C:\\Users\\Kevin\\AppData\\Local\\Temp\\ipykernel_12060\\4215609556.py:4: DeprecationWarning: headless property is deprecated, instead use add_argument('-headless')\n",
      "  options.headless = True\n",
      "C:\\Users\\Kevin\\AppData\\Local\\Temp\\ipykernel_12060\\4215609556.py:5: DeprecationWarning: executable_path has been deprecated, please pass in a Service object\n",
      "  driver = webdriver.Firefox(executable_path=\"C:\\Program Files\\GeckoDriver\\geckodriver.exe\", options=options)\n"
     ]
    }
   ],
   "source": [
    "\n",
    "\n",
    "# create new instance of firefox driver -- this should be the geckodriver\n",
    "options = Options()\n",
    "options.binary_location = r\"C:\\\\Program Files\\\\Mozilla Firefox\\\\firefox.exe\"\n",
    "options.headless = True\n",
    "driver = webdriver.Firefox(executable_path=\"C:\\Program Files\\GeckoDriver\\geckodriver.exe\", options=options)\n"
   ]
  },
  {
   "cell_type": "code",
   "execution_count": 4,
   "metadata": {},
   "outputs": [],
   "source": [
    "\n",
    "# ---------------------------------------------------\n",
    "# start with guitarcenter\n",
    "# ---------------------------------------------------\n",
    "\n",
    "url_list = [] #  list of guitar urls\n",
    "guitars = [] # list of guitars\n",
    "# iterate over the range of \"Nao\" values, get links to all guitars\n",
    "# for ii in range(0, 4400, 100):\n",
    "for ii in range(0,100,100): # temp testing\n",
    "    html = scrape_utils.gc_get_browsing_pages(driver, ii) # get the html doc\n",
    "\n",
    "    url_list.append(scrape_utils.gc_extract_links(html)) # append the list of matches\n",
    "\n",
    "# make it unique -- without numpy\n",
    "url_list = list(set([item for sublist in url_list for item in sublist]))"
   ]
  },
  {
   "cell_type": "code",
   "execution_count": 5,
   "metadata": {},
   "outputs": [],
   "source": [
    "client = edgedb.create_client(dsn='MSDS_459')"
   ]
  },
  {
   "cell_type": "code",
   "execution_count": null,
   "metadata": {},
   "outputs": [],
   "source": [
    "client.query(\"\"\" INSERT ReviewSource {\n",
    "                    name := <str>'Guitar Center',\n",
    "                    sourceType := <default::SourceType>'Vendor',\n",
    "            } UNLESS CONFLICT \"\"\")\n",
    "\n",
    "# create a \"Guitar Center\" vendor\n",
    "client.query(\"\"\" INSERT Vendor {\n",
    "                    name := <str>'Guitar Center',\n",
    "            } UNLESS CONFLICT \"\"\")"
   ]
  },
  {
   "cell_type": "code",
   "execution_count": null,
   "metadata": {},
   "outputs": [],
   "source": [
    "from importlib import reload\n",
    "reload(scrape_utils)\n",
    "reload(scrape_utils.class_definitions)\n",
    "# reload(class_definitions)"
   ]
  },
  {
   "cell_type": "code",
   "execution_count": null,
   "metadata": {},
   "outputs": [],
   "source": [
    "for url_i,url in enumerate(url_list):\n",
    "    if url_i < 100:\n",
    "        html = scrape_utils.gc_get_all_reviews(driver, url)  \n",
    "        reviews = scrape_utils.gc_extract_review_info(html) # parse the review info\n",
    "        guitar = scrape_utils.gc_extract_guitar_info(url, html) # parse the specs for the guitar\n",
    "\n",
    "        guitar_id = guitar.insert(client)\n",
    "\n",
    "\n",
    "        for review in reviews:\n",
    "            review.insert(guitar_id, client)"
   ]
  },
  {
   "cell_type": "code",
   "execution_count": 6,
   "metadata": {},
   "outputs": [],
   "source": [
    "url = url_list[1]\n",
    "html = scrape_utils.gc_get_all_reviews(driver, url)  \n",
    "reviews = scrape_utils.gc_extract_review_info(html) # parse the review info\n",
    "guitar = scrape_utils.gc_extract_guitar_info(url, html) # parse the specs for the guitar"
   ]
  },
  {
   "cell_type": "code",
   "execution_count": 7,
   "metadata": {},
   "outputs": [],
   "source": [
    "guitar_id = guitar.insert(client)"
   ]
  },
  {
   "cell_type": "code",
   "execution_count": null,
   "metadata": {},
   "outputs": [],
   "source": []
  },
  {
   "cell_type": "code",
   "execution_count": 8,
   "metadata": {},
   "outputs": [],
   "source": [
    "for review in reviews:\n",
    "    review.insert(guitar_id, client)"
   ]
  },
  {
   "cell_type": "code",
   "execution_count": null,
   "metadata": {},
   "outputs": [],
   "source": [
    "rating = review.rating if review.rating is not None else float()\n",
    "rev_date = review.date if review.date is not None else str()\n",
    "pros = review.pros if len(review.pros) > 0 else edgedb.Set()\n",
    "cons = review.cons if len(review.cons) > 0 else edgedb.Set()\n",
    "best_for = review.best_for if len(review.best_for) > 0 else edgedb.Set()\n",
    "text = review.text if review.text is not None else str()\n",
    "\n",
    "query_str = \"\"\"INSERT Review {\n",
    "                normalized_rating := <float64>$rating,\n",
    "                date := <std::datetime>$rev_date, \n",
    "                pros := <array<str>>$pros,\n",
    "                cons := <array<str>>$cons,\n",
    "                best_for := <array<str>>$best_for,\n",
    "                written_review := <str>$text,\n",
    "                guitar := (\n",
    "                    SELECT Guitar\n",
    "                    filter .id = <uuid>$guitar_id\n",
    "                    ),\n",
    "                source :=(\n",
    "                    SELECT ReviewSource\n",
    "                    filter .name = <str>$review_source\n",
    "                ),\n",
    "                }\n",
    "                \"\"\"\n",
    "return_val = client.query(query_str, rating=rating, rev_date=rev_date, pros=pros,\\\n",
    "             cons = cons, best_for = best_for, text = text, guitar_id = guitar_id[0].id, review_source = review.review_source)\n"
   ]
  },
  {
   "cell_type": "code",
   "execution_count": null,
   "metadata": {},
   "outputs": [],
   "source": [
    "review.review_source"
   ]
  },
  {
   "cell_type": "code",
   "execution_count": null,
   "metadata": {},
   "outputs": [],
   "source": [
    "query_str = \"\"\"INSERT Review {\n",
    "                normalized_rating := <float64>$rating,\n",
    "                date := <std::datetime>$rev_date, \n",
    "                pros := <array<str>>$pros,\n",
    "                cons := <array<str>>$cons,\n",
    "                best_for := <array<str>>$best_for,\n",
    "                written_review := <str>$text,\n",
    "                guitar := (\n",
    "                    SELECT Guitar\n",
    "                    filter .id = <uuid>$guitar_id\n",
    "                    ),\n",
    "                source :=(\n",
    "                    SELECT ReviewSource\n",
    "                    filter .name = <str>$review_source\n",
    "                ),\n",
    "                }\n",
    "                \"\"\"\n",
    "return_val = client.query(query_str, rating=rating, rev_date=rev_date, pros=pros,\\\n",
    "             cons = cons, best_for = best_for, text = text, guitar_id = guitar_id, review_source = review.review_source)\n"
   ]
  },
  {
   "cell_type": "code",
   "execution_count": 31,
   "metadata": {},
   "outputs": [],
   "source": [
    "import re"
   ]
  },
  {
   "cell_type": "code",
   "execution_count": null,
   "metadata": {},
   "outputs": [],
   "source": [
    "match = re.search(r'[C|c]lassical',guitar.model)"
   ]
  },
  {
   "cell_type": "code",
   "execution_count": null,
   "metadata": {},
   "outputs": [],
   "source": [
    "match.group(0)"
   ]
  },
  {
   "cell_type": "code",
   "execution_count": 9,
   "metadata": {},
   "outputs": [],
   "source": [
    "\n",
    "driver.close()\n",
    "client.close()"
   ]
  },
  {
   "cell_type": "code",
   "execution_count": 13,
   "metadata": {},
   "outputs": [],
   "source": [
    "client = edgedb.create_client(dsn='MSDS_459')\n",
    "\n",
    "query_string = '''WITH pickups := \n",
    "            (SELECT Guitar.pickups filter Guitar.pickups != '')\n",
    "            \n",
    "            SELECT DISTINCT pickups;\n",
    "            '''\n",
    "cutaways = client.query(query_string)"
   ]
  },
  {
   "cell_type": "code",
   "execution_count": 8,
   "metadata": {},
   "outputs": [],
   "source": [
    "resp = client.query(query_string)"
   ]
  },
  {
   "cell_type": "code",
   "execution_count": 14,
   "metadata": {},
   "outputs": [
    {
     "data": {
      "text/plain": [
       "[]"
      ]
     },
     "execution_count": 14,
     "metadata": {},
     "output_type": "execute_result"
    }
   ],
   "source": [
    "cutaways"
   ]
  },
  {
   "cell_type": "code",
   "execution_count": 24,
   "metadata": {},
   "outputs": [],
   "source": [
    "search_dict = dict()\n",
    "\n",
    "guitar_props = ['body_shape','cutaway','pickups']\n",
    "\n",
    "for prop in guitar_props:\n",
    "    query_string = f\"\"\"WITH property :=\n",
    "            (SELECT Guitar.{prop} filter Guitar.{prop} != '')\n",
    "            SELECT DISTINCT property\"\"\"\n",
    "\n",
    "    search_dict[prop] = client.query(query_string)    \n"
   ]
  },
  {
   "cell_type": "code",
   "execution_count": 27,
   "metadata": {},
   "outputs": [],
   "source": [
    "# find valid entries for all \"string\" fields\n",
    "str_props = ['body_shape','cutaway','pickups', 'type', 'country_of_origin']\n",
    "for prop in str_props:\n",
    "    query_string = f'''WITH prop :=\n",
    "            (SELECT Guitar.{prop} filter Guitar.{prop} != '')\n",
    "            SELECT DISTINCT prop'''\n",
    "    search_dict[prop] = client.query(query_string)"
   ]
  },
  {
   "cell_type": "code",
   "execution_count": 28,
   "metadata": {},
   "outputs": [
    {
     "data": {
      "text/plain": [
       "{'body_shape': ['000-14 Fret',\n",
       "  'Concert',\n",
       "  'Dreadnought, 14th Fret',\n",
       "  'Other',\n",
       "  'Semi-hollow or chambered body',\n",
       "  'Solid body'],\n",
       " 'cutaway': ['Non-cutaway', 'Single cutaway', 'Single-cutaway'],\n",
       " 'pickups': [],\n",
       " 'type': ['Acoustic', 'Acoustic Electric', 'Classical', 'Electric', 'unknown'],\n",
       " 'country_of_origin': []}"
      ]
     },
     "execution_count": 28,
     "metadata": {},
     "output_type": "execute_result"
    }
   ],
   "source": [
    "search_dict"
   ]
  },
  {
   "cell_type": "code",
   "execution_count": 29,
   "metadata": {},
   "outputs": [
    {
     "data": {
      "text/plain": [
       "{'body_shape': ['000-14 Fret',\n",
       "  'Concert',\n",
       "  'Dreadnought, 14th Fret',\n",
       "  'Other',\n",
       "  'Semi-hollow or chambered body',\n",
       "  'Solid body'],\n",
       " 'cutaway': ['Non-cutaway', 'Single cutaway', 'Single-cutaway'],\n",
       " 'pickups': [],\n",
       " 'type': ['Acoustic', 'Acoustic Electric', 'Classical', 'Electric', 'unknown'],\n",
       " 'country_of_origin': [],\n",
       " 'num_strings': [],\n",
       " 'scale_length': [],\n",
       " 'num_frets': []}"
      ]
     },
     "execution_count": 29,
     "metadata": {},
     "output_type": "execute_result"
    }
   ],
   "source": [
    "num_props = ['num_strings','scale_length','num_frets']\n",
    "for prop in num_props:\n",
    "    query_string = f'''WITH prop :=\n",
    "            (SELECT Guitar.{prop} filter Guitar.{prop} != 0)\n",
    "            SELECT DISTINCT prop'''\n",
    "    search_dict[prop] = client.query(query_string)\n",
    "\n",
    "search_dict"
   ]
  },
  {
   "cell_type": "code",
   "execution_count": 38,
   "metadata": {},
   "outputs": [
    {
     "ename": "IndexError",
     "evalue": "no such group",
     "output_type": "error",
     "traceback": [
      "\u001b[1;31m---------------------------------------------------------------------------\u001b[0m",
      "\u001b[1;31mIndexError\u001b[0m                                Traceback (most recent call last)",
      "\u001b[1;32mc:\\Users\\17204\\Documents\\git\\MSDS459_project\\scraper\\Development.ipynb Cell 27\u001b[0m in \u001b[0;36m<cell line: 2>\u001b[1;34m()\u001b[0m\n\u001b[0;32m      <a href='vscode-notebook-cell:/c%3A/Users/17204/Documents/git/MSDS459_project/scraper/Development.ipynb#X35sZmlsZQ%3D%3D?line=0'>1</a>\u001b[0m test_str \u001b[39m=\u001b[39m \u001b[39m'\u001b[39m\u001b[39mAcoustic-electric\u001b[39m\u001b[39m'\u001b[39m\n\u001b[1;32m----> <a href='vscode-notebook-cell:/c%3A/Users/17204/Documents/git/MSDS459_project/scraper/Development.ipynb#X35sZmlsZQ%3D%3D?line=1'>2</a>\u001b[0m match \u001b[39m=\u001b[39m re\u001b[39m.\u001b[39;49msearch(\u001b[39m'\u001b[39;49m\u001b[39m[A|a]coustic[ |-][E|e]lectric\u001b[39;49m\u001b[39m'\u001b[39;49m, test_str)\u001b[39m.\u001b[39;49mgroup(\u001b[39m1\u001b[39;49m)\n\u001b[0;32m      <a href='vscode-notebook-cell:/c%3A/Users/17204/Documents/git/MSDS459_project/scraper/Development.ipynb#X35sZmlsZQ%3D%3D?line=2'>3</a>\u001b[0m \u001b[39mmatch\u001b[39;00m\n",
      "\u001b[1;31mIndexError\u001b[0m: no such group"
     ]
    }
   ],
   "source": [
    "test_str = 'Acoustic-electric'\n",
    "match = re.search('[A|a]coustic[ |-][E|e]lectric', test_str).group(0)\n",
    "match"
   ]
  },
  {
   "cell_type": "code",
   "execution_count": null,
   "metadata": {},
   "outputs": [],
   "source": []
  }
 ],
 "metadata": {
  "kernelspec": {
   "display_name": "MSDS",
   "language": "python",
   "name": "python3"
  },
  "language_info": {
   "codemirror_mode": {
    "name": "ipython",
    "version": 3
   },
   "file_extension": ".py",
   "mimetype": "text/x-python",
   "name": "python",
   "nbconvert_exporter": "python",
   "pygments_lexer": "ipython3",
   "version": "3.9.13"
  },
  "orig_nbformat": 4
 },
 "nbformat": 4,
 "nbformat_minor": 2
}
