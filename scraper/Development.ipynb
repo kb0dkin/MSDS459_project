{
 "cells": [
  {
   "cell_type": "code",
   "execution_count": 1,
   "metadata": {},
   "outputs": [],
   "source": [
    "# scraper.py\n",
    "#\n",
    "# Scrapes data about guitars and reviews from a few different sources,\n",
    "# then uses that data to populate an EdgeDB instance\n",
    "#\n",
    "# Much of the scraper code is just refactoring of Joe's GuitarCenter code, \n",
    "# put into a little more organized piece of code\n",
    "\n",
    "\n",
    "from selenium import webdriver\n",
    "from selenium.webdriver.firefox.options import Options\n",
    "# import time\n",
    "from bs4 import BeautifulSoup\n",
    "import edgedb\n",
    "import numpy as np\n",
    "import json\n"
   ]
  },
  {
   "cell_type": "code",
   "execution_count": 2,
   "metadata": {},
   "outputs": [],
   "source": [
    "\n",
    "# local import\n",
    "import scrape_utils\n",
    "import class_definitions\n"
   ]
  },
  {
   "cell_type": "code",
   "execution_count": 3,
   "metadata": {},
   "outputs": [],
   "source": [
    "\n",
    "\n",
    "# create new instance of firefox driver -- this should be the geckodriver\n",
    "options = Options()\n",
    "options.binary_location = r\"C:\\\\Program Files\\\\Mozilla Firefox\\\\firefox.exe\"\n",
    "driver = webdriver.Firefox(executable_path=\"C:\\Program Files\\GeckoDriver\\geckodriver.exe\", options=options)\n"
   ]
  },
  {
   "cell_type": "code",
   "execution_count": 10,
   "metadata": {},
   "outputs": [],
   "source": [
    "\n",
    "# ---------------------------------------------------\n",
    "# start with guitarcenter\n",
    "# ---------------------------------------------------\n",
    "\n",
    "url_list = [] #  list of guitar urls\n",
    "guitars = [] # list of guitars\n",
    "# iterate over the range of \"Nao\" values, get links to all guitars\n",
    "# for ii in range(0, 4400, 100):\n",
    "for ii in range(0,4400,100): # temp testing\n",
    "    html = scrape_utils.gc_get_browsing_pages(driver, ii) # get the html doc\n",
    "\n",
    "    url_list.append(scrape_utils.gc_extract_links(html)) # append the list of matches\n",
    "\n",
    "# make it unique -- without numpy\n",
    "url_list = list(set([item for sublist in url_list for item in sublist]))"
   ]
  },
  {
   "cell_type": "code",
   "execution_count": 9,
   "metadata": {},
   "outputs": [],
   "source": [
    "# url_np = np.unique([item for sublist in url_list for item in sublist])\n",
    "url_set = list(set([item for sublist in url_list for item in sublist]))"
   ]
  },
  {
   "cell_type": "code",
   "execution_count": 11,
   "metadata": {},
   "outputs": [],
   "source": [
    "\n",
    "client = edgedb.create_client(dsn='MSDS_459')\n"
   ]
  },
  {
   "cell_type": "code",
   "execution_count": null,
   "metadata": {},
   "outputs": [],
   "source": [
    "url = url_list[0]\n",
    "html = scrape_utils.gc_get_all_reviews(driver, url)  \n",
    "reviews = scrape_utils.gc_extract_review_info(html) # parse the review info\n",
    "guitar = scrape_utils.gc_extract_guitar_info(url, html) # parse the specs for the guitar\n"
   ]
  },
  {
   "cell_type": "code",
   "execution_count": 12,
   "metadata": {},
   "outputs": [
    {
     "ename": "TypeError",
     "evalue": "'builtin_function_or_method' object is not subscriptable",
     "output_type": "error",
     "traceback": [
      "\u001b[1;31m---------------------------------------------------------------------------\u001b[0m",
      "\u001b[1;31mTypeError\u001b[0m                                 Traceback (most recent call last)",
      "\u001b[1;32mc:\\Users\\17204\\Documents\\git\\MSDS459_project\\scraper\\Development.ipynb Cell 8\u001b[0m in \u001b[0;36m<cell line: 1>\u001b[1;34m()\u001b[0m\n\u001b[0;32m      <a href='vscode-notebook-cell:/c%3A/Users/17204/Documents/git/MSDS459_project/scraper/Development.ipynb#X23sZmlsZQ%3D%3D?line=0'>1</a>\u001b[0m \u001b[39mfor\u001b[39;00m url \u001b[39min\u001b[39;00m url_list:\n\u001b[1;32m----> <a href='vscode-notebook-cell:/c%3A/Users/17204/Documents/git/MSDS459_project/scraper/Development.ipynb#X23sZmlsZQ%3D%3D?line=1'>2</a>\u001b[0m     \u001b[39mprint\u001b[39;49m[url]\n",
      "\u001b[1;31mTypeError\u001b[0m: 'builtin_function_or_method' object is not subscriptable"
     ]
    }
   ],
   "source": [
    "for i_url,url in enumerate(url_list):\n",
    "    if i_url < 100:\n",
    "        print[url]\n",
    "              "
   ]
  },
  {
   "cell_type": "code",
   "execution_count": null,
   "metadata": {},
   "outputs": [],
   "source": [
    "guitar_id = guitar.insert(client)\n",
    "\n"
   ]
  },
  {
   "cell_type": "code",
   "execution_count": null,
   "metadata": {},
   "outputs": [],
   "source": [
    "review = reviews[0]\n",
    "review.insert(guitar_id, client)\n",
    "\n",
    "# Review insertions\n",
    "# for review in reviews:\n",
    "#     review_id = review.insert(guitar_id=guitar_id, client=client)\n"
   ]
  },
  {
   "cell_type": "code",
   "execution_count": null,
   "metadata": {},
   "outputs": [],
   "source": [
    "client.query(\"\"\" INSERT ReviewSource {\n",
    "                    name := <str>'Guitar Center',\n",
    "                    sourceType := <default::SourceType>'Vendor',\n",
    "            } UNLESS CONFLICT \"\"\")\n",
    "\n",
    "# create a \"Guitar Center\" vendor\n",
    "client.query(\"\"\" INSERT Vendor {\n",
    "                    name := <str>'Guitar Center',\n",
    "            } UNLESS CONFLICT \"\"\")"
   ]
  },
  {
   "cell_type": "code",
   "execution_count": null,
   "metadata": {},
   "outputs": [],
   "source": [
    "\n",
    "# iterate through the urls\n",
    "# for url in url_list:\n",
    "for url_ii, url in enumerate(url_list):\n",
    "    html = scrape_utils.gc_get_all_reviews(driver, url)  \n",
    "    reviews = scrape_utils.gc_extract_review_info(html) # parse the review info\n",
    "    guitar = scrape_utils.gc_extract_guitar_info(url, html) # parse the specs for the guitar\n",
    "\n",
    "    \n",
    "    # *todo* -- enable entity linking!        \n",
    "    g_id = client.query(\"\"\"\n",
    "        INSERT Guitar {\n",
    "            model := <str>$model,\n",
    "            type := <str>$g_type,\n",
    "            body_shape := <str>$body_shape,\n",
    "            cutaway := <str>$cutaway,\n",
    "            num_strings := <int32>$num_strings,\n",
    "            scale_length := <float64>$scale_length,\n",
    "            num_frets := <int32>$num_frets,\n",
    "            description := <str>$description\n",
    "        }\n",
    "    \"\"\", model=guitar.model, body_shape = guitar.body_shape, cutaway = guitar.cutaway,\\\n",
    "        num_strings = guitar.num_strings, scale_length = guitar.scale_length,\\\n",
    "        num_frets = guitar.num_frets, description = guitar.description, g_type = \"guitar\")\n",
    "    \n",
    "    # Review insertions\n",
    "    for review in reviews:\n",
    "        review_set = client.query(\"\"\"\n",
    "            INSERT Review {\n",
    "                normalized_rating:= <float64>$rating,\n",
    "                date:= <std::datetime>$date,\n",
    "                pros := <array<str>>$pros,\n",
    "                cons := <array<str>>$cons,\n",
    "                best_for := <array<str>>$best_for,\n",
    "                guitar := <default::Guitar>$guitar,\n",
    "                written_review -> <str>$text,\n",
    "            }\n",
    "        \"\"\",\\\n",
    "            rating=review.rating, date=review.date,\\\n",
    "            pros=review.pros, cons=review.cons,\\\n",
    "            best_for= review.best_for, guitar=g_id,\\\n",
    "            text = review.text)\n",
    "        \n",
    "        author_set = client.query(\"\"\"\n",
    "            SELECT Reviewer FILTER Reviewer.review.id = $review_id\n",
    "        \"\"\", review_id = review_set[0])\n",
    "        \n",
    "        "
   ]
  },
  {
   "cell_type": "code",
   "execution_count": null,
   "metadata": {},
   "outputs": [],
   "source": [
    "\n",
    "driver.close()\n",
    "client.close()"
   ]
  }
 ],
 "metadata": {
  "kernelspec": {
   "display_name": "MSDS",
   "language": "python",
   "name": "python3"
  },
  "language_info": {
   "codemirror_mode": {
    "name": "ipython",
    "version": 3
   },
   "file_extension": ".py",
   "mimetype": "text/x-python",
   "name": "python",
   "nbconvert_exporter": "python",
   "pygments_lexer": "ipython3",
   "version": "3.9.13"
  },
  "orig_nbformat": 4
 },
 "nbformat": 4,
 "nbformat_minor": 2
}
