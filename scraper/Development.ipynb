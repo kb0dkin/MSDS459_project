{
 "cells": [
  {
   "cell_type": "code",
   "execution_count": 1,
   "metadata": {},
   "outputs": [],
   "source": [
    "# scraper.py\n",
    "#\n",
    "# Scrapes data about guitars and reviews from a few different sources,\n",
    "# then uses that data to populate an EdgeDB instance\n",
    "\n",
    "from selenium import webdriver\n",
    "from selenium.webdriver.firefox.options import Options\n",
    "# import time\n",
    "from bs4 import BeautifulSoup\n",
    "import edgedb\n",
    "import os\n",
    "from os import path\n",
    "\n",
    "import numpy as np\n",
    "# import json\n"
   ]
  },
  {
   "cell_type": "code",
   "execution_count": 2,
   "metadata": {},
   "outputs": [],
   "source": [
    "\n",
    "# local import\n",
    "import scrape_utils\n",
    "# import class_definitions\n"
   ]
  },
  {
   "cell_type": "code",
   "execution_count": 3,
   "metadata": {},
   "outputs": [],
   "source": [
    "# create new instance of firefox driver -- this should be the geckodriver\n",
    "options = Options()\n",
    "options.binary_location = r\"C:\\\\Program Files\\\\Mozilla Firefox\\\\firefox.exe\"\n",
    "options.headless = True\n",
    "# options.set_headless(True)\n",
    "driver = webdriver.Firefox(executable_path=\"C:\\Program Files\\GeckoDriver\\geckodriver.exe\", options=options)\n",
    "\n",
    "# driver.manage()"
   ]
  },
  {
   "cell_type": "code",
   "execution_count": null,
   "metadata": {},
   "outputs": [],
   "source": [
    "\n",
    "# ---------------------------------------------------\n",
    "# start with guitarcenter\n",
    "# ---------------------------------------------------\n",
    "\n",
    "url_list = [] #  list of guitar urls\n",
    "guitars = [] # list of guitars\n",
    "# iterate over the range of \"Nao\" values, get links to all guitars\n",
    "# for ii in range(0, 4400, 100):\n",
    "for ii in range(0,100,100): # temp testing\n",
    "    html = scrape_utils.gc_get_browsing_pages(driver, ii) # get the html doc\n",
    "\n",
    "    url_list.append(scrape_utils.gc_extract_links(html)) # append the list of matches\n",
    "\n",
    "# make it unique -- without numpy\n",
    "url_list = list(set([item for sublist in url_list for item in sublist]))"
   ]
  },
  {
   "cell_type": "code",
   "execution_count": 4,
   "metadata": {},
   "outputs": [],
   "source": [
    "client = edgedb.create_client(dsn='MSDS_459')"
   ]
  },
  {
   "cell_type": "code",
   "execution_count": null,
   "metadata": {},
   "outputs": [],
   "source": [
    "client.query(\"\"\" INSERT ReviewSource {\n",
    "                    name := <str>'Guitar Center',\n",
    "                    sourceType := <default::SourceType>'Vendor',\n",
    "            } UNLESS CONFLICT \"\"\")\n",
    "\n",
    "# create a \"Guitar Center\" vendor\n",
    "client.query(\"\"\" INSERT Vendor {\n",
    "                    name := <str>'Guitar Center',\n",
    "            } UNLESS CONFLICT \"\"\")"
   ]
  },
  {
   "cell_type": "code",
   "execution_count": null,
   "metadata": {},
   "outputs": [],
   "source": [
    "from importlib import reload\n",
    "reload(scrape_utils)\n",
    "reload(scrape_utils.class_definitions)\n",
    "# reload(class_definitions)"
   ]
  },
  {
   "cell_type": "code",
   "execution_count": null,
   "metadata": {},
   "outputs": [],
   "source": [
    "for url_i,url in enumerate(url_list):\n",
    "    if url_i < 100:\n",
    "        html = scrape_utils.gc_get_all_reviews(driver, url)  \n",
    "        reviews = scrape_utils.gc_extract_review_info(html) # parse the review info\n",
    "        guitar = scrape_utils.gc_extract_guitar_info(url, html) # parse the specs for the guitar\n",
    "\n",
    "        guitar_id = guitar.insert(client)\n",
    "\n",
    "\n",
    "        for review in reviews:\n",
    "            review.insert(guitar_id, client)"
   ]
  },
  {
   "cell_type": "code",
   "execution_count": null,
   "metadata": {},
   "outputs": [],
   "source": [
    "url = url_list[1]\n",
    "html = scrape_utils.gc_get_all_reviews(driver, url)  \n",
    "reviews = scrape_utils.gc_extract_review_info(html) # parse the review info\n",
    "guitar = scrape_utils.gc_extract_guitar_info(url, html) # parse the specs for the guitar"
   ]
  },
  {
   "cell_type": "code",
   "execution_count": null,
   "metadata": {},
   "outputs": [],
   "source": [
    "rating = review.rating if review.rating is not None else float()\n",
    "rev_date = review.date if review.date is not None else str()\n",
    "pros = review.pros if len(review.pros) > 0 else edgedb.Set()\n",
    "cons = review.cons if len(review.cons) > 0 else edgedb.Set()\n",
    "best_for = review.best_for if len(review.best_for) > 0 else edgedb.Set()\n",
    "text = review.text if review.text is not None else str()\n",
    "\n",
    "query_str = \"\"\"INSERT Review {\n",
    "                normalized_rating := <float64>$rating,\n",
    "                date := <std::datetime>$rev_date, \n",
    "                pros := <array<str>>$pros,\n",
    "                cons := <array<str>>$cons,\n",
    "                best_for := <array<str>>$best_for,\n",
    "                written_review := <str>$text,\n",
    "                guitar := (\n",
    "                    SELECT Guitar\n",
    "                    filter .id = <uuid>$guitar_id\n",
    "                    ),\n",
    "                source :=(\n",
    "                    SELECT ReviewSource\n",
    "                    filter .name = <str>$review_source\n",
    "                ),\n",
    "                }\n",
    "                \"\"\"\n",
    "return_val = client.query(query_str, rating=rating, rev_date=rev_date, pros=pros,\\\n",
    "             cons = cons, best_for = best_for, text = text, guitar_id = guitar_id[0].id, review_source = review.review_source)\n"
   ]
  },
  {
   "cell_type": "code",
   "execution_count": null,
   "metadata": {},
   "outputs": [],
   "source": [
    "query_str = \"\"\"INSERT Review {\n",
    "                normalized_rating := <float64>$rating,\n",
    "                date := <std::datetime>$rev_date, \n",
    "                pros := <array<str>>$pros,\n",
    "                cons := <array<str>>$cons,\n",
    "                best_for := <array<str>>$best_for,\n",
    "                written_review := <str>$text,\n",
    "                guitar := (\n",
    "                    SELECT Guitar\n",
    "                    filter .id = <uuid>$guitar_id\n",
    "                    ),\n",
    "                source :=(\n",
    "                    SELECT ReviewSource\n",
    "                    filter .name = <str>$review_source\n",
    "                ),\n",
    "                }\n",
    "                \"\"\"\n",
    "return_val = client.query(query_str, rating=rating, rev_date=rev_date, pros=pros,\\\n",
    "             cons = cons, best_for = best_for, text = text, guitar_id = guitar_id, review_source = review.review_source)\n"
   ]
  },
  {
   "cell_type": "code",
   "execution_count": null,
   "metadata": {},
   "outputs": [],
   "source": [
    "\n",
    "driver.close()\n",
    "client.close()"
   ]
  },
  {
   "cell_type": "code",
   "execution_count": 5,
   "metadata": {},
   "outputs": [
    {
     "name": "stdout",
     "output_type": "stream",
     "text": [
      "List of Guitars and URLs read from product_urls.txt\n"
     ]
    }
   ],
   "source": [
    "saveDir = '../product_pages_full'\n",
    "url_file = 'product_urls.txt'\n",
    "with open(url_file, \"r\") as file:\n",
    "    url_list = file.read().splitlines()\n",
    "print(f'List of Guitars and URLs read from {url_file}')"
   ]
  },
  {
   "cell_type": "code",
   "execution_count": null,
   "metadata": {},
   "outputs": [],
   "source": [
    "n_urls = len(url_list)\n",
    "scrape_start = n_urls-1000\n",
    "scrape_end = n_urls\n",
    "len_scrape = scrape_end-scrape_start\n",
    "\n",
    "print(f'Downloading HTML pages for {len_scrape} pages')\n",
    "status_steps = np.ceil(len_scrape/20)\n",
    "vpn_count = 1\n",
    "for i_url,url_partial in enumerate(url_list[scrape_start:scrape_end]): # can modify this to only download a subset of the urls at a time\n",
    "\n",
    "    # a nice little status bar :)\n",
    "    curr_status = int(np.ceil(i_url/status_steps))\n",
    "    print(f\"[{curr_status*'-'}{(20-curr_status)*' '}] {i_url} of {len_scrape}\",end='\\r')    \n",
    "\n",
    "    # check if file exists, skip if it's around\n",
    "    save_name = f\"{saveDir}{path.splitext(url_partial)[0]}.html\"\n",
    "    if not path.exists(save_name): # skip if the file exists\n",
    "\n",
    "        try:\n",
    "            # Construct the full URL\n",
    "            url = \"https://www.guitarcenter.com\" + url_partial\n",
    "            driver.get(url)\n",
    "            html = scrape_utils.gc_get_all_reviews(driver, url)\n",
    "\n",
    "            # create a directory as needed\n",
    "            subDir = path.split(url_partial)[0]\n",
    "            if not path.exists(saveDir + subDir):\n",
    "                os.makedirs(f\"{saveDir}{subDir}\")\n",
    "            with open(save_name, \"w\", encoding='utf-8') as file:\n",
    "                file.write(html)\n",
    "\n",
    "        except:\n",
    "            print('Time to change the VPN')\n",
    "            os.system(f'mullvad relay set hostname us-chi-00{vpn_count%5+1}')\n",
    "            vpn_count += 1\n",
    "\n",
    "\n",
    "\n",
    "\n"
   ]
  },
  {
   "cell_type": "code",
   "execution_count": 7,
   "metadata": {},
   "outputs": [],
   "source": [
    "driver.close()"
   ]
  },
  {
   "cell_type": "code",
   "execution_count": 6,
   "metadata": {},
   "outputs": [
    {
     "name": "stdout",
     "output_type": "stream",
     "text": [
      "Adding guitars to the database\n",
      "[--------------------]   6581/6582\n",
      "\n",
      "Upload Statistics:\n",
      "\t305 Guitars added\n",
      "\t1096 Guitars were already in the database\n",
      "\t5181 html files were missing\n",
      "\t0 attempts failed for unknown reasons\n"
     ]
    }
   ],
   "source": [
    "print(\"Adding guitars to the database\")\n",
    "add_list = []\n",
    "skip_list = []\n",
    "miss_list = []\n",
    "fail_list = []\n",
    "\n",
    "\n",
    "status_steps = np.ceil(len(url_list)/20)\n",
    "for i_url,url in enumerate(url_list):\n",
    "\n",
    "    # a nice little status bar :)\n",
    "    curr_status = int(np.ceil(i_url/status_steps))\n",
    "    print(f\"[{curr_status*'-'}{(20-curr_status)*' '}]   {i_url}/{len(url_list)}\",end='\\r')\n",
    "\n",
    "    # check to make sure that we have scraped the html\n",
    "    url_file = f\"{saveDir}/{url[1:-3]}.html\"\n",
    "    if path.exists(url_file):\n",
    "        with open(url_file, \"r\", encoding='utf-8') as file:\n",
    "            html = file.read()\n",
    "\n",
    "        reviews = scrape_utils.gc_extract_review_info(html) # parse the review info\n",
    "        guitar = scrape_utils.gc_extract_guitar_info(url, html) # parse the specs for the guitar\n",
    "        # print(guitar.scale_length)\n",
    "\n",
    "        if len(client.query(\"SELECT Guitar filter .model = <str>$model\", model=guitar.model)) == 0:\n",
    "            try:\n",
    "                guitar_id = guitar.insert(client) # insert the guitar, get the uuid\n",
    "\n",
    "                for review in reviews: # insert all reviews\n",
    "                    review.insert(guitar_id, client)\n",
    "                \n",
    "                add_list.append(url) # keep track of what has been added\n",
    "\n",
    "            except:\n",
    "                # print(f'Could not insert guitar {guitar.model}')\n",
    "                fail_list.append(url)\n",
    "        else:\n",
    "            skip_list.append(url)\n",
    "\n",
    "    else:\n",
    "        # print(f\"{url_file} has not been downloaded\")\n",
    "        miss_list.append(url)\n",
    "\n",
    "print('\\n')\n",
    "print('Upload Statistics:')\n",
    "print(f\"\\t{len(add_list)} Guitars added\")\n",
    "print(f\"\\t{len(skip_list)} Guitars were already in the database\")\n",
    "print(f\"\\t{len(miss_list)} html files were missing\")\n",
    "print(f\"\\t{len(fail_list)} attempts failed for unknown reasons\")\n"
   ]
  },
  {
   "cell_type": "code",
   "execution_count": null,
   "metadata": {},
   "outputs": [],
   "source": [
    "guitar_description = client.query('''\n",
    "            SELECT Guitar.description\n",
    "            OFFSET 30 LIMIT 1\n",
    "    ''')"
   ]
  },
  {
   "cell_type": "code",
   "execution_count": null,
   "metadata": {},
   "outputs": [],
   "source": [
    "guitar_description"
   ]
  },
  {
   "cell_type": "code",
   "execution_count": null,
   "metadata": {},
   "outputs": [],
   "source": [
    "BERT_model = scrape_utils.BERT_embed_model()"
   ]
  },
  {
   "cell_type": "code",
   "execution_count": null,
   "metadata": {},
   "outputs": [],
   "source": [
    "out_test = BERT_model.predict(guitar_description)"
   ]
  },
  {
   "cell_type": "code",
   "execution_count": null,
   "metadata": {},
   "outputs": [],
   "source": [
    "out_test['encoder_outputs'][0].tolist()"
   ]
  },
  {
   "cell_type": "code",
   "execution_count": null,
   "metadata": {},
   "outputs": [],
   "source": [
    "out_test['encoder_outputs'][0]"
   ]
  },
  {
   "cell_type": "code",
   "execution_count": null,
   "metadata": {},
   "outputs": [],
   "source": [
    "len(np.array([]))"
   ]
  },
  {
   "cell_type": "code",
   "execution_count": null,
   "metadata": {},
   "outputs": [],
   "source": []
  }
 ],
 "metadata": {
  "kernelspec": {
   "display_name": "MSDS",
   "language": "python",
   "name": "python3"
  },
  "language_info": {
   "codemirror_mode": {
    "name": "ipython",
    "version": 3
   },
   "file_extension": ".py",
   "mimetype": "text/x-python",
   "name": "python",
   "nbconvert_exporter": "python",
   "pygments_lexer": "ipython3",
   "version": "3.9.13"
  },
  "orig_nbformat": 4
 },
 "nbformat": 4,
 "nbformat_minor": 2
}
