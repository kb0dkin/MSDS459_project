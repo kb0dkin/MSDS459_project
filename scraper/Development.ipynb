{
 "cells": [
  {
   "cell_type": "code",
   "execution_count": 1,
   "metadata": {},
   "outputs": [],
   "source": [
    "# scraper.py\n",
    "#\n",
    "# Scrapes data about guitars and reviews from a few different sources,\n",
    "# then uses that data to populate an EdgeDB instance\n",
    "#\n",
    "# Much of the scraper code is just refactoring of Joe's GuitarCenter code, \n",
    "# put into a little more organized piece of code\n",
    "\n",
    "\n",
    "from selenium import webdriver\n",
    "from selenium.webdriver.firefox.options import Options\n",
    "# import time\n",
    "from bs4 import BeautifulSoup\n",
    "import edgedb\n",
    "import numpy as np\n",
    "# import json\n"
   ]
  },
  {
   "cell_type": "code",
   "execution_count": 2,
   "metadata": {},
   "outputs": [],
   "source": [
    "\n",
    "# local import\n",
    "import scrape_utils\n",
    "# import class_definitions\n"
   ]
  },
  {
   "cell_type": "code",
   "execution_count": 3,
   "metadata": {},
   "outputs": [
    {
     "name": "stderr",
     "output_type": "stream",
     "text": [
      "C:\\Users\\Kevin\\AppData\\Local\\Temp\\ipykernel_12060\\4215609556.py:4: DeprecationWarning: headless property is deprecated, instead use add_argument('-headless')\n",
      "  options.headless = True\n",
      "C:\\Users\\Kevin\\AppData\\Local\\Temp\\ipykernel_12060\\4215609556.py:5: DeprecationWarning: executable_path has been deprecated, please pass in a Service object\n",
      "  driver = webdriver.Firefox(executable_path=\"C:\\Program Files\\GeckoDriver\\geckodriver.exe\", options=options)\n"
     ]
    }
   ],
   "source": [
    "\n",
    "\n",
    "# create new instance of firefox driver -- this should be the geckodriver\n",
    "options = Options()\n",
    "options.binary_location = r\"C:\\\\Program Files\\\\Mozilla Firefox\\\\firefox.exe\"\n",
    "options.headless = True\n",
    "driver = webdriver.Firefox(executable_path=\"C:\\Program Files\\GeckoDriver\\geckodriver.exe\", options=options)\n"
   ]
  },
  {
   "cell_type": "code",
   "execution_count": 4,
   "metadata": {},
   "outputs": [],
   "source": [
    "\n",
    "# ---------------------------------------------------\n",
    "# start with guitarcenter\n",
    "# ---------------------------------------------------\n",
    "\n",
    "url_list = [] #  list of guitar urls\n",
    "guitars = [] # list of guitars\n",
    "# iterate over the range of \"Nao\" values, get links to all guitars\n",
    "# for ii in range(0, 4400, 100):\n",
    "for ii in range(0,100,100): # temp testing\n",
    "    html = scrape_utils.gc_get_browsing_pages(driver, ii) # get the html doc\n",
    "\n",
    "    url_list.append(scrape_utils.gc_extract_links(html)) # append the list of matches\n",
    "\n",
    "# make it unique -- without numpy\n",
    "url_list = list(set([item for sublist in url_list for item in sublist]))"
   ]
  },
  {
   "cell_type": "code",
   "execution_count": 5,
   "metadata": {},
   "outputs": [],
   "source": [
    "client = edgedb.create_client(dsn='MSDS_459')"
   ]
  },
  {
   "cell_type": "code",
   "execution_count": null,
   "metadata": {},
   "outputs": [],
   "source": [
    "client.query(\"\"\" INSERT ReviewSource {\n",
    "                    name := <str>'Guitar Center',\n",
    "                    sourceType := <default::SourceType>'Vendor',\n",
    "            } UNLESS CONFLICT \"\"\")\n",
    "\n",
    "# create a \"Guitar Center\" vendor\n",
    "client.query(\"\"\" INSERT Vendor {\n",
    "                    name := <str>'Guitar Center',\n",
    "            } UNLESS CONFLICT \"\"\")"
   ]
  },
  {
   "cell_type": "code",
   "execution_count": null,
   "metadata": {},
   "outputs": [],
   "source": [
    "from importlib import reload\n",
    "reload(scrape_utils)\n",
    "reload(scrape_utils.class_definitions)\n",
    "# reload(class_definitions)"
   ]
  },
  {
   "cell_type": "code",
   "execution_count": null,
   "metadata": {},
   "outputs": [],
   "source": [
    "for url_i,url in enumerate(url_list):\n",
    "    if url_i < 100:\n",
    "        html = scrape_utils.gc_get_all_reviews(driver, url)  \n",
    "        reviews = scrape_utils.gc_extract_review_info(html) # parse the review info\n",
    "        guitar = scrape_utils.gc_extract_guitar_info(url, html) # parse the specs for the guitar\n",
    "\n",
    "        guitar_id = guitar.insert(client)\n",
    "\n",
    "\n",
    "        for review in reviews:\n",
    "            review.insert(guitar_id, client)"
   ]
  },
  {
   "cell_type": "code",
   "execution_count": 6,
   "metadata": {},
   "outputs": [],
   "source": [
    "url = url_list[1]\n",
    "html = scrape_utils.gc_get_all_reviews(driver, url)  \n",
    "reviews = scrape_utils.gc_extract_review_info(html) # parse the review info\n",
    "guitar = scrape_utils.gc_extract_guitar_info(url, html) # parse the specs for the guitar"
   ]
  },
  {
   "cell_type": "code",
   "execution_count": 7,
   "metadata": {},
   "outputs": [],
   "source": [
    "guitar_id = guitar.insert(client)"
   ]
  },
  {
   "cell_type": "code",
   "execution_count": null,
   "metadata": {},
   "outputs": [],
   "source": []
  },
  {
   "cell_type": "code",
   "execution_count": 8,
   "metadata": {},
   "outputs": [],
   "source": [
    "for review in reviews:\n",
    "    review.insert(guitar_id, client)"
   ]
  },
  {
   "cell_type": "code",
   "execution_count": null,
   "metadata": {},
   "outputs": [],
   "source": [
    "rating = review.rating if review.rating is not None else float()\n",
    "rev_date = review.date if review.date is not None else str()\n",
    "pros = review.pros if len(review.pros) > 0 else edgedb.Set()\n",
    "cons = review.cons if len(review.cons) > 0 else edgedb.Set()\n",
    "best_for = review.best_for if len(review.best_for) > 0 else edgedb.Set()\n",
    "text = review.text if review.text is not None else str()\n",
    "\n",
    "query_str = \"\"\"INSERT Review {\n",
    "                normalized_rating := <float64>$rating,\n",
    "                date := <std::datetime>$rev_date, \n",
    "                pros := <array<str>>$pros,\n",
    "                cons := <array<str>>$cons,\n",
    "                best_for := <array<str>>$best_for,\n",
    "                written_review := <str>$text,\n",
    "                guitar := (\n",
    "                    SELECT Guitar\n",
    "                    filter .id = <uuid>$guitar_id\n",
    "                    ),\n",
    "                source :=(\n",
    "                    SELECT ReviewSource\n",
    "                    filter .name = <str>$review_source\n",
    "                ),\n",
    "                }\n",
    "                \"\"\"\n",
    "return_val = client.query(query_str, rating=rating, rev_date=rev_date, pros=pros,\\\n",
    "             cons = cons, best_for = best_for, text = text, guitar_id = guitar_id[0].id, review_source = review.review_source)\n"
   ]
  },
  {
   "cell_type": "code",
   "execution_count": null,
   "metadata": {},
   "outputs": [],
   "source": [
    "review.review_source"
   ]
  },
  {
   "cell_type": "code",
   "execution_count": null,
   "metadata": {},
   "outputs": [],
   "source": [
    "query_str = \"\"\"INSERT Review {\n",
    "                normalized_rating := <float64>$rating,\n",
    "                date := <std::datetime>$rev_date, \n",
    "                pros := <array<str>>$pros,\n",
    "                cons := <array<str>>$cons,\n",
    "                best_for := <array<str>>$best_for,\n",
    "                written_review := <str>$text,\n",
    "                guitar := (\n",
    "                    SELECT Guitar\n",
    "                    filter .id = <uuid>$guitar_id\n",
    "                    ),\n",
    "                source :=(\n",
    "                    SELECT ReviewSource\n",
    "                    filter .name = <str>$review_source\n",
    "                ),\n",
    "                }\n",
    "                \"\"\"\n",
    "return_val = client.query(query_str, rating=rating, rev_date=rev_date, pros=pros,\\\n",
    "             cons = cons, best_for = best_for, text = text, guitar_id = guitar_id, review_source = review.review_source)\n"
   ]
  },
  {
   "cell_type": "code",
   "execution_count": null,
   "metadata": {},
   "outputs": [],
   "source": [
    "import re"
   ]
  },
  {
   "cell_type": "code",
   "execution_count": null,
   "metadata": {},
   "outputs": [],
   "source": [
    "match = re.search(r'[C|c]lassical',guitar.model)"
   ]
  },
  {
   "cell_type": "code",
   "execution_count": null,
   "metadata": {},
   "outputs": [],
   "source": [
    "match.group(0)"
   ]
  },
  {
   "cell_type": "code",
   "execution_count": 9,
   "metadata": {},
   "outputs": [],
   "source": [
    "\n",
    "driver.close()\n",
    "client.close()"
   ]
  },
  {
   "cell_type": "code",
   "execution_count": null,
   "metadata": {},
   "outputs": [],
   "source": []
  }
 ],
 "metadata": {
  "kernelspec": {
   "display_name": "MSDS",
   "language": "python",
   "name": "python3"
  },
  "language_info": {
   "codemirror_mode": {
    "name": "ipython",
    "version": 3
   },
   "file_extension": ".py",
   "mimetype": "text/x-python",
   "name": "python",
   "nbconvert_exporter": "python",
   "pygments_lexer": "ipython3",
   "version": "3.10.4"
  },
  "orig_nbformat": 4
 },
 "nbformat": 4,
 "nbformat_minor": 2
}
