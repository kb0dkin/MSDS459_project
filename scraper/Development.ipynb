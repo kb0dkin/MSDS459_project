{
 "cells": [
  {
   "cell_type": "code",
   "execution_count": 1,
   "metadata": {},
   "outputs": [],
   "source": [
    "# scraper.py\n",
    "#\n",
    "# Scrapes data about guitars and reviews from a few different sources,\n",
    "# then uses that data to populate an EdgeDB instance\n",
    "#\n",
    "# Much of the scraper code is just refactoring of Joe's GuitarCenter code, \n",
    "# put into a little more organized piece of code\n",
    "\n",
    "\n",
    "from selenium import webdriver\n",
    "from selenium.webdriver.firefox.options import Options\n",
    "# import time\n",
    "from bs4 import BeautifulSoup\n",
    "import edgedb\n",
    "import os\n",
    "from os import path\n",
    "\n",
    "import numpy as np\n",
    "# import json\n"
   ]
  },
  {
   "cell_type": "code",
   "execution_count": 2,
   "metadata": {},
   "outputs": [],
   "source": [
    "\n",
    "# local import\n",
    "import scrape_utils\n",
    "# import class_definitions\n"
   ]
  },
  {
   "cell_type": "code",
   "execution_count": 3,
   "metadata": {},
   "outputs": [],
   "source": [
    "\n",
    "\n",
    "# create new instance of firefox driver -- this should be the geckodriver\n",
    "options = Options()\n",
    "options.binary_location = r\"C:\\\\Program Files\\\\Mozilla Firefox\\\\firefox.exe\"\n",
    "options.headless = True\n",
    "# options.set_headless(True)\n",
    "driver = webdriver.Firefox(executable_path=\"C:\\Program Files\\GeckoDriver\\geckodriver.exe\", options=options)\n",
    "\n",
    "# driver.manage()"
   ]
  },
  {
   "cell_type": "code",
   "execution_count": null,
   "metadata": {},
   "outputs": [],
   "source": [
    "\n",
    "# ---------------------------------------------------\n",
    "# start with guitarcenter\n",
    "# ---------------------------------------------------\n",
    "\n",
    "url_list = [] #  list of guitar urls\n",
    "guitars = [] # list of guitars\n",
    "# iterate over the range of \"Nao\" values, get links to all guitars\n",
    "# for ii in range(0, 4400, 100):\n",
    "for ii in range(0,100,100): # temp testing\n",
    "    html = scrape_utils.gc_get_browsing_pages(driver, ii) # get the html doc\n",
    "\n",
    "    url_list.append(scrape_utils.gc_extract_links(html)) # append the list of matches\n",
    "\n",
    "# make it unique -- without numpy\n",
    "url_list = list(set([item for sublist in url_list for item in sublist]))"
   ]
  },
  {
   "cell_type": "code",
   "execution_count": 4,
   "metadata": {},
   "outputs": [],
   "source": [
    "client = edgedb.create_client(dsn='MSDS_459')"
   ]
  },
  {
   "cell_type": "code",
   "execution_count": null,
   "metadata": {},
   "outputs": [],
   "source": [
    "client.query(\"\"\" INSERT ReviewSource {\n",
    "                    name := <str>'Guitar Center',\n",
    "                    sourceType := <default::SourceType>'Vendor',\n",
    "            } UNLESS CONFLICT \"\"\")\n",
    "\n",
    "# create a \"Guitar Center\" vendor\n",
    "client.query(\"\"\" INSERT Vendor {\n",
    "                    name := <str>'Guitar Center',\n",
    "            } UNLESS CONFLICT \"\"\")"
   ]
  },
  {
   "cell_type": "code",
   "execution_count": null,
   "metadata": {},
   "outputs": [],
   "source": [
    "from importlib import reload\n",
    "reload(scrape_utils)\n",
    "reload(scrape_utils.class_definitions)\n",
    "# reload(class_definitions)"
   ]
  },
  {
   "cell_type": "code",
   "execution_count": null,
   "metadata": {},
   "outputs": [],
   "source": [
    "for url_i,url in enumerate(url_list):\n",
    "    if url_i < 100:\n",
    "        html = scrape_utils.gc_get_all_reviews(driver, url)  \n",
    "        reviews = scrape_utils.gc_extract_review_info(html) # parse the review info\n",
    "        guitar = scrape_utils.gc_extract_guitar_info(url, html) # parse the specs for the guitar\n",
    "\n",
    "        guitar_id = guitar.insert(client)\n",
    "\n",
    "\n",
    "        for review in reviews:\n",
    "            review.insert(guitar_id, client)"
   ]
  },
  {
   "cell_type": "code",
   "execution_count": null,
   "metadata": {},
   "outputs": [],
   "source": [
    "url = url_list[1]\n",
    "html = scrape_utils.gc_get_all_reviews(driver, url)  \n",
    "reviews = scrape_utils.gc_extract_review_info(html) # parse the review info\n",
    "guitar = scrape_utils.gc_extract_guitar_info(url, html) # parse the specs for the guitar"
   ]
  },
  {
   "cell_type": "code",
   "execution_count": null,
   "metadata": {},
   "outputs": [],
   "source": [
    "guitar_id = guitar.insert(client)"
   ]
  },
  {
   "cell_type": "code",
   "execution_count": null,
   "metadata": {},
   "outputs": [],
   "source": []
  },
  {
   "cell_type": "code",
   "execution_count": null,
   "metadata": {},
   "outputs": [],
   "source": [
    "for review in reviews:\n",
    "    review.insert(guitar_id, client)"
   ]
  },
  {
   "cell_type": "code",
   "execution_count": null,
   "metadata": {},
   "outputs": [],
   "source": [
    "rating = review.rating if review.rating is not None else float()\n",
    "rev_date = review.date if review.date is not None else str()\n",
    "pros = review.pros if len(review.pros) > 0 else edgedb.Set()\n",
    "cons = review.cons if len(review.cons) > 0 else edgedb.Set()\n",
    "best_for = review.best_for if len(review.best_for) > 0 else edgedb.Set()\n",
    "text = review.text if review.text is not None else str()\n",
    "\n",
    "query_str = \"\"\"INSERT Review {\n",
    "                normalized_rating := <float64>$rating,\n",
    "                date := <std::datetime>$rev_date, \n",
    "                pros := <array<str>>$pros,\n",
    "                cons := <array<str>>$cons,\n",
    "                best_for := <array<str>>$best_for,\n",
    "                written_review := <str>$text,\n",
    "                guitar := (\n",
    "                    SELECT Guitar\n",
    "                    filter .id = <uuid>$guitar_id\n",
    "                    ),\n",
    "                source :=(\n",
    "                    SELECT ReviewSource\n",
    "                    filter .name = <str>$review_source\n",
    "                ),\n",
    "                }\n",
    "                \"\"\"\n",
    "return_val = client.query(query_str, rating=rating, rev_date=rev_date, pros=pros,\\\n",
    "             cons = cons, best_for = best_for, text = text, guitar_id = guitar_id[0].id, review_source = review.review_source)\n"
   ]
  },
  {
   "cell_type": "code",
   "execution_count": null,
   "metadata": {},
   "outputs": [],
   "source": [
    "review.review_source"
   ]
  },
  {
   "cell_type": "code",
   "execution_count": null,
   "metadata": {},
   "outputs": [],
   "source": [
    "query_str = \"\"\"INSERT Review {\n",
    "                normalized_rating := <float64>$rating,\n",
    "                date := <std::datetime>$rev_date, \n",
    "                pros := <array<str>>$pros,\n",
    "                cons := <array<str>>$cons,\n",
    "                best_for := <array<str>>$best_for,\n",
    "                written_review := <str>$text,\n",
    "                guitar := (\n",
    "                    SELECT Guitar\n",
    "                    filter .id = <uuid>$guitar_id\n",
    "                    ),\n",
    "                source :=(\n",
    "                    SELECT ReviewSource\n",
    "                    filter .name = <str>$review_source\n",
    "                ),\n",
    "                }\n",
    "                \"\"\"\n",
    "return_val = client.query(query_str, rating=rating, rev_date=rev_date, pros=pros,\\\n",
    "             cons = cons, best_for = best_for, text = text, guitar_id = guitar_id, review_source = review.review_source)\n"
   ]
  },
  {
   "cell_type": "code",
   "execution_count": null,
   "metadata": {},
   "outputs": [],
   "source": [
    "import re"
   ]
  },
  {
   "cell_type": "code",
   "execution_count": null,
   "metadata": {},
   "outputs": [],
   "source": [
    "match = re.search(r'[C|c]lassical',guitar.model)"
   ]
  },
  {
   "cell_type": "code",
   "execution_count": null,
   "metadata": {},
   "outputs": [],
   "source": [
    "match.group(0)"
   ]
  },
  {
   "cell_type": "code",
   "execution_count": null,
   "metadata": {},
   "outputs": [],
   "source": [
    "\n",
    "driver.close()\n",
    "client.close()"
   ]
  },
  {
   "cell_type": "code",
   "execution_count": null,
   "metadata": {},
   "outputs": [],
   "source": [
    "client = edgedb.create_client(dsn='MSDS_459')\n",
    "\n",
    "query_string = '''WITH pickups := \n",
    "            (SELECT Guitar.pickups filter Guitar.pickups != '')\n",
    "            \n",
    "            SELECT DISTINCT pickups;\n",
    "            '''\n",
    "cutaways = client.query(query_string)"
   ]
  },
  {
   "cell_type": "code",
   "execution_count": null,
   "metadata": {},
   "outputs": [],
   "source": [
    "resp = client.query(query_string)"
   ]
  },
  {
   "cell_type": "code",
   "execution_count": null,
   "metadata": {},
   "outputs": [],
   "source": [
    "if len(client.query(f\"SELECT Guitar filter .model = 'Ernie' \")):\n",
    "    print('Responses!')\n",
    "else:\n",
    "    print('Nothing!')"
   ]
  },
  {
   "cell_type": "code",
   "execution_count": null,
   "metadata": {},
   "outputs": [],
   "source": [
    "search_dict = dict()\n",
    "\n",
    "guitar_props = ['body_shape','cutaway','pickups']\n",
    "\n",
    "for prop in guitar_props:\n",
    "    query_string = f\"\"\"WITH property :=\n",
    "            (SELECT Guitar.{prop} filter Guitar.{prop} != '')\n",
    "            SELECT DISTINCT property\"\"\"\n",
    "\n",
    "    search_dict[prop] = client.query(query_string)    \n"
   ]
  },
  {
   "cell_type": "code",
   "execution_count": null,
   "metadata": {},
   "outputs": [],
   "source": [
    "# find valid entries for all \"string\" fields\n",
    "str_props = ['body_shape','cutaway','pickups', 'type', 'country_of_origin']\n",
    "for prop in str_props:\n",
    "    query_string = f'''WITH prop :=\n",
    "            (SELECT str_lower(Guitar.{prop}) filter Guitar.{prop} != '')\n",
    "            SELECT DISTINCT prop'''\n",
    "    search_dict[prop] = client.query(query_string)"
   ]
  },
  {
   "cell_type": "code",
   "execution_count": null,
   "metadata": {},
   "outputs": [],
   "source": [
    "search_dict"
   ]
  },
  {
   "cell_type": "code",
   "execution_count": null,
   "metadata": {},
   "outputs": [],
   "source": [
    "num_props = ['num_strings','scale_length','num_frets']\n",
    "for prop in num_props:\n",
    "    query_string = f'''WITH prop :=\n",
    "            (SELECT Guitar.{prop} filter Guitar.{prop} != 0)\n",
    "            SELECT DISTINCT prop'''\n",
    "    search_dict[prop] = client.query(query_string)\n",
    "\n",
    "search_dict"
   ]
  },
  {
   "cell_type": "code",
   "execution_count": null,
   "metadata": {},
   "outputs": [],
   "source": [
    "test_str = 'Acoustic-electric'\n",
    "match = re.search('[A|a]coustic[ |-][E|e]lectric', test_str).group(0)\n",
    "match"
   ]
  },
  {
   "cell_type": "code",
   "execution_count": null,
   "metadata": {},
   "outputs": [],
   "source": [
    "search_dict"
   ]
  },
  {
   "cell_type": "code",
   "execution_count": null,
   "metadata": {},
   "outputs": [],
   "source": [
    "query_str = 'SELECT Guitar {model, description} filter .type in {\"Electric\"} limit 5;'\n",
    "with edgedb.create_client(dsn='MSDS_459') as client:\n",
    "\n",
    "    guitars = client.query(query_str)"
   ]
  },
  {
   "cell_type": "code",
   "execution_count": 5,
   "metadata": {},
   "outputs": [
    {
     "name": "stdout",
     "output_type": "stream",
     "text": [
      "List of Guitars and URLs read from product_urls.txt\n"
     ]
    }
   ],
   "source": [
    "saveDir = '../product_pages_full'\n",
    "url_file = 'product_urls.txt'\n",
    "with open(url_file, \"r\") as file:\n",
    "    url_list = file.read().splitlines()\n",
    "print(f'List of Guitars and URLs read from {url_file}')"
   ]
  },
  {
   "cell_type": "code",
   "execution_count": null,
   "metadata": {},
   "outputs": [],
   "source": [
    "save_name = f\"{saveDir}{path.splitext(url_partial)[0]}.html\"\n",
    "# not path.exists(save_name)\n",
    "save_name\n",
    "subDir = path.split(url_partial)[0]\n",
    "saveDir + subDir"
   ]
  },
  {
   "cell_type": "code",
   "execution_count": null,
   "metadata": {},
   "outputs": [],
   "source": [
    "n_urls = len(url_list)\n",
    "scrape_start = n_urls-1000\n",
    "scrape_end = n_urls\n",
    "len_scrape = scrape_end-scrape_start\n",
    "\n",
    "print(f'Downloading HTML pages for {len_scrape} pages')\n",
    "status_steps = np.ceil(len_scrape/20)\n",
    "for i_url,url_partial in enumerate(url_list[scrape_start:scrape_end]): # can modify this to only download a subset of the urls at a time\n",
    "\n",
    "    # a nice little status bar :)\n",
    "    curr_status = int(np.ceil(i_url/status_steps))\n",
    "    print(f\"[{curr_status*'-'}{(20-curr_status)*' '}]   {url_partial}\",end='\\r')    \n",
    "\n",
    "    # check if file exists, skip if it's around\n",
    "    save_name = f\"{saveDir}{path.splitext(url_partial)[0]}.html\"\n",
    "    if not path.exists(save_name): # skip if the file exists\n",
    "\n",
    "        # Construct the full URL\n",
    "        url = \"https://www.guitarcenter.com\" + url_partial\n",
    "        driver.get(url)\n",
    "        html = scrape_utils.gc_get_all_reviews(driver, url)\n",
    "\n",
    "        # create a directory as needed\n",
    "        subDir = path.split(url_partial)[0]\n",
    "        if not path.exists(saveDir + subDir):\n",
    "            os.makedirs(f\"{saveDir}{subDir}\")\n",
    "        with open(save_name, \"w\", encoding='utf-8') as file:\n",
    "            file.write(html)\n",
    "\n",
    "\n"
   ]
  },
  {
   "cell_type": "code",
   "execution_count": null,
   "metadata": {},
   "outputs": [],
   "source": [
    "driver.close()"
   ]
  },
  {
   "cell_type": "code",
   "execution_count": 10,
   "metadata": {},
   "outputs": [
    {
     "name": "stdout",
     "output_type": "stream",
     "text": [
      "Adding guitars to the database\n"
     ]
    },
    {
     "ename": "QueryArgumentError",
     "evalue": "expected {'model'} arguments, got nothing, missed {'model'}",
     "output_type": "error",
     "traceback": [
      "\u001b[1;31m---------------------------------------------------------------------------\u001b[0m",
      "\u001b[1;31mQueryArgumentError\u001b[0m                        Traceback (most recent call last)",
      "\u001b[1;32mc:\\Users\\17204\\Documents\\git\\MSDS459_project\\scraper\\Development.ipynb Cell 34\u001b[0m in \u001b[0;36m<cell line: 6>\u001b[1;34m()\u001b[0m\n\u001b[0;32m     <a href='vscode-notebook-cell:/c%3A/Users/17204/Documents/git/MSDS459_project/scraper/Development.ipynb#X52sZmlsZQ%3D%3D?line=14'>15</a>\u001b[0m guitar \u001b[39m=\u001b[39m scrape_utils\u001b[39m.\u001b[39mgc_extract_guitar_info(url, html) \u001b[39m# parse the specs for the guitar\u001b[39;00m\n\u001b[0;32m     <a href='vscode-notebook-cell:/c%3A/Users/17204/Documents/git/MSDS459_project/scraper/Development.ipynb#X52sZmlsZQ%3D%3D?line=15'>16</a>\u001b[0m \u001b[39m# print(guitar.scale_length)\u001b[39;00m\n\u001b[1;32m---> <a href='vscode-notebook-cell:/c%3A/Users/17204/Documents/git/MSDS459_project/scraper/Development.ipynb#X52sZmlsZQ%3D%3D?line=17'>18</a>\u001b[0m \u001b[39mif\u001b[39;00m \u001b[39mlen\u001b[39m(client\u001b[39m.\u001b[39;49mquery(\u001b[39m\"\u001b[39;49m\u001b[39mSELECT Guitar filter .model = <str>$model\u001b[39;49m\u001b[39m\"\u001b[39;49m), model\u001b[39m=\u001b[39mguitar\u001b[39m.\u001b[39mmodel) \u001b[39m==\u001b[39m \u001b[39m0\u001b[39m:\n\u001b[0;32m     <a href='vscode-notebook-cell:/c%3A/Users/17204/Documents/git/MSDS459_project/scraper/Development.ipynb#X52sZmlsZQ%3D%3D?line=18'>19</a>\u001b[0m     \u001b[39mtry\u001b[39;00m:\n\u001b[0;32m     <a href='vscode-notebook-cell:/c%3A/Users/17204/Documents/git/MSDS459_project/scraper/Development.ipynb#X52sZmlsZQ%3D%3D?line=19'>20</a>\u001b[0m         guitar_id \u001b[39m=\u001b[39m guitar\u001b[39m.\u001b[39minsert(client) \u001b[39m# insert the guitar, get the uuid\u001b[39;00m\n",
      "File \u001b[1;32mc:\\Users\\17204\\miniconda3\\envs\\MSDS\\lib\\site-packages\\edgedb\\abstract.py:146\u001b[0m, in \u001b[0;36mReadOnlyExecutor.query\u001b[1;34m(self, query, *args, **kwargs)\u001b[0m\n\u001b[0;32m    145\u001b[0m \u001b[39mdef\u001b[39;00m \u001b[39mquery\u001b[39m(\u001b[39mself\u001b[39m, query: \u001b[39mstr\u001b[39m, \u001b[39m*\u001b[39margs, \u001b[39m*\u001b[39m\u001b[39m*\u001b[39mkwargs) \u001b[39m-\u001b[39m\u001b[39m>\u001b[39m \u001b[39mlist\u001b[39m:\n\u001b[1;32m--> 146\u001b[0m     \u001b[39mreturn\u001b[39;00m \u001b[39mself\u001b[39;49m\u001b[39m.\u001b[39;49m_query(QueryContext(\n\u001b[0;32m    147\u001b[0m         query\u001b[39m=\u001b[39;49mQueryWithArgs(query, args, kwargs),\n\u001b[0;32m    148\u001b[0m         cache\u001b[39m=\u001b[39;49m\u001b[39mself\u001b[39;49m\u001b[39m.\u001b[39;49m_get_query_cache(),\n\u001b[0;32m    149\u001b[0m         query_options\u001b[39m=\u001b[39;49m_query_opts,\n\u001b[0;32m    150\u001b[0m         retry_options\u001b[39m=\u001b[39;49m\u001b[39mself\u001b[39;49m\u001b[39m.\u001b[39;49m_get_retry_options(),\n\u001b[0;32m    151\u001b[0m         state\u001b[39m=\u001b[39;49m\u001b[39mself\u001b[39;49m\u001b[39m.\u001b[39;49m_get_state(),\n\u001b[0;32m    152\u001b[0m     ))\n",
      "File \u001b[1;32mc:\\Users\\17204\\miniconda3\\envs\\MSDS\\lib\\site-packages\\edgedb\\blocking_client.py:352\u001b[0m, in \u001b[0;36mClient._query\u001b[1;34m(self, query_context)\u001b[0m\n\u001b[0;32m    351\u001b[0m \u001b[39mdef\u001b[39;00m \u001b[39m_query\u001b[39m(\u001b[39mself\u001b[39m, query_context: abstract\u001b[39m.\u001b[39mQueryContext):\n\u001b[1;32m--> 352\u001b[0m     \u001b[39mreturn\u001b[39;00m \u001b[39mself\u001b[39;49m\u001b[39m.\u001b[39;49m_iter_coroutine(\u001b[39msuper\u001b[39;49m()\u001b[39m.\u001b[39;49m_query(query_context))\n",
      "File \u001b[1;32mc:\\Users\\17204\\miniconda3\\envs\\MSDS\\lib\\site-packages\\edgedb\\blocking_client.py:341\u001b[0m, in \u001b[0;36mClient._iter_coroutine\u001b[1;34m(self, coro)\u001b[0m\n\u001b[0;32m    339\u001b[0m \u001b[39mdef\u001b[39;00m \u001b[39m_iter_coroutine\u001b[39m(\u001b[39mself\u001b[39m, coro):\n\u001b[0;32m    340\u001b[0m     \u001b[39mtry\u001b[39;00m:\n\u001b[1;32m--> 341\u001b[0m         coro\u001b[39m.\u001b[39;49msend(\u001b[39mNone\u001b[39;49;00m)\n\u001b[0;32m    342\u001b[0m     \u001b[39mexcept\u001b[39;00m \u001b[39mStopIteration\u001b[39;00m \u001b[39mas\u001b[39;00m ex:\n\u001b[0;32m    343\u001b[0m         \u001b[39mif\u001b[39;00m ex\u001b[39m.\u001b[39margs:\n",
      "File \u001b[1;32mc:\\Users\\17204\\miniconda3\\envs\\MSDS\\lib\\site-packages\\edgedb\\base_client.py:739\u001b[0m, in \u001b[0;36mBaseClient._query\u001b[1;34m(self, query_context)\u001b[0m\n\u001b[0;32m    737\u001b[0m con \u001b[39m=\u001b[39m \u001b[39mawait\u001b[39;00m \u001b[39mself\u001b[39m\u001b[39m.\u001b[39m_impl\u001b[39m.\u001b[39macquire()\n\u001b[0;32m    738\u001b[0m \u001b[39mtry\u001b[39;00m:\n\u001b[1;32m--> 739\u001b[0m     \u001b[39mreturn\u001b[39;00m \u001b[39mawait\u001b[39;00m con\u001b[39m.\u001b[39mraw_query(query_context)\n\u001b[0;32m    740\u001b[0m \u001b[39mfinally\u001b[39;00m:\n\u001b[0;32m    741\u001b[0m     \u001b[39mawait\u001b[39;00m \u001b[39mself\u001b[39m\u001b[39m.\u001b[39m_impl\u001b[39m.\u001b[39mrelease(con)\n",
      "File \u001b[1;32mc:\\Users\\17204\\miniconda3\\envs\\MSDS\\lib\\site-packages\\edgedb\\blocking_client.py:155\u001b[0m, in \u001b[0;36mBlockingIOConnection.raw_query\u001b[1;34m(self, query_context)\u001b[0m\n\u001b[0;32m    152\u001b[0m \u001b[39mexcept\u001b[39;00m (errors\u001b[39m.\u001b[39mIdleSessionTimeoutError, errors\u001b[39m.\u001b[39mClientConnectionError):\n\u001b[0;32m    153\u001b[0m     \u001b[39mawait\u001b[39;00m \u001b[39mself\u001b[39m\u001b[39m.\u001b[39mconnect()\n\u001b[1;32m--> 155\u001b[0m \u001b[39mreturn\u001b[39;00m \u001b[39mawait\u001b[39;00m \u001b[39msuper\u001b[39m()\u001b[39m.\u001b[39mraw_query(query_context)\n",
      "File \u001b[1;32mc:\\Users\\17204\\miniconda3\\envs\\MSDS\\lib\\site-packages\\edgedb\\base_client.py:239\u001b[0m, in \u001b[0;36mBaseConnection.raw_query\u001b[1;34m(self, query_context)\u001b[0m\n\u001b[0;32m    237\u001b[0m     \u001b[39mraise\u001b[39;00m\n\u001b[0;32m    238\u001b[0m \u001b[39mif\u001b[39;00m \u001b[39mnot\u001b[39;00m e\u001b[39m.\u001b[39mhas_tag(errors\u001b[39m.\u001b[39mSHOULD_RETRY):\n\u001b[1;32m--> 239\u001b[0m     \u001b[39mraise\u001b[39;00m e\n\u001b[0;32m    240\u001b[0m \u001b[39mif\u001b[39;00m capabilities \u001b[39mis\u001b[39;00m \u001b[39mNone\u001b[39;00m:\n\u001b[0;32m    241\u001b[0m     cache_item \u001b[39m=\u001b[39m query_context\u001b[39m.\u001b[39mcache\u001b[39m.\u001b[39mquery_cache\u001b[39m.\u001b[39mget(\n\u001b[0;32m    242\u001b[0m         query_context\u001b[39m.\u001b[39mquery\u001b[39m.\u001b[39mquery,\n\u001b[0;32m    243\u001b[0m         query_context\u001b[39m.\u001b[39mquery_options\u001b[39m.\u001b[39moutput_format,\n\u001b[1;32m   (...)\u001b[0m\n\u001b[0;32m    247\u001b[0m         expect_one\u001b[39m=\u001b[39mquery_context\u001b[39m.\u001b[39mquery_options\u001b[39m.\u001b[39mexpect_one,\n\u001b[0;32m    248\u001b[0m     )\n",
      "File \u001b[1;32mc:\\Users\\17204\\miniconda3\\envs\\MSDS\\lib\\site-packages\\edgedb\\base_client.py:234\u001b[0m, in \u001b[0;36mBaseConnection.raw_query\u001b[1;34m(self, query_context)\u001b[0m\n\u001b[0;32m    230\u001b[0m         \u001b[39mreturn\u001b[39;00m \u001b[39mawait\u001b[39;00m \u001b[39mself\u001b[39m\u001b[39m.\u001b[39m_protocol\u001b[39m.\u001b[39mlegacy_execute_anonymous(\n\u001b[0;32m    231\u001b[0m             \u001b[39m*\u001b[39m\u001b[39m*\u001b[39margs\n\u001b[0;32m    232\u001b[0m         )\n\u001b[0;32m    233\u001b[0m     \u001b[39melse\u001b[39;00m:\n\u001b[1;32m--> 234\u001b[0m         \u001b[39mreturn\u001b[39;00m \u001b[39mawait\u001b[39;00m \u001b[39mself\u001b[39m\u001b[39m.\u001b[39m_protocol\u001b[39m.\u001b[39mquery(\u001b[39m*\u001b[39m\u001b[39m*\u001b[39margs)\n\u001b[0;32m    235\u001b[0m \u001b[39mexcept\u001b[39;00m errors\u001b[39m.\u001b[39mEdgeDBError \u001b[39mas\u001b[39;00m e:\n\u001b[0;32m    236\u001b[0m     \u001b[39mif\u001b[39;00m query_context\u001b[39m.\u001b[39mretry_options \u001b[39mis\u001b[39;00m \u001b[39mNone\u001b[39;00m:\n",
      "File \u001b[1;32mc:\\Users\\17204\\miniconda3\\envs\\MSDS\\lib\\site-packages\\edgedb\\protocol\\protocol.pyx:594\u001b[0m, in \u001b[0;36mquery\u001b[1;34m()\u001b[0m\n",
      "File \u001b[1;32mc:\\Users\\17204\\miniconda3\\envs\\MSDS\\lib\\site-packages\\edgedb\\protocol\\protocol.pyx:559\u001b[0m, in \u001b[0;36mexecute\u001b[1;34m()\u001b[0m\n",
      "File \u001b[1;32mc:\\Users\\17204\\miniconda3\\envs\\MSDS\\lib\\site-packages\\edgedb\\protocol\\protocol.pyx:379\u001b[0m, in \u001b[0;36m_execute\u001b[1;34m()\u001b[0m\n",
      "File \u001b[1;32mc:\\Users\\17204\\miniconda3\\envs\\MSDS\\lib\\site-packages\\edgedb\\protocol\\protocol.pyx:1125\u001b[0m, in \u001b[0;36medgedb.protocol.protocol.SansIOProtocol.encode_args\u001b[1;34m()\u001b[0m\n",
      "File \u001b[1;32mc:\\Users\\17204\\miniconda3\\envs\\MSDS\\lib\\site-packages\\edgedb\\protocol\\codecs\\object.pyx:86\u001b[0m, in \u001b[0;36medgedb.protocol.protocol.ObjectCodec.encode_args\u001b[1;34m()\u001b[0m\n",
      "\u001b[1;31mQueryArgumentError\u001b[0m: expected {'model'} arguments, got nothing, missed {'model'}"
     ]
    }
   ],
   "source": [
    "print(\"Adding guitars to the database\")\n",
    "add_list = []\n",
    "skip_list = []\n",
    "miss_list = []\n",
    "fail_list = []\n",
    "for url in url_list:\n",
    "\n",
    "    # check to make sure that we have scraped the html\n",
    "    url_file = f\"{saveDir}/{url[1:-3]}.html\"\n",
    "    if path.exists(url_file):\n",
    "        with open(url_file, \"r\", encoding='utf-8') as file:\n",
    "            html = file.read()\n",
    "\n",
    "        reviews = scrape_utils.gc_extract_review_info(html) # parse the review info\n",
    "        guitar = scrape_utils.gc_extract_guitar_info(url, html) # parse the specs for the guitar\n",
    "        # print(guitar.scale_length)\n",
    "\n",
    "        if len(client.query(\"SELECT Guitar filter .model = <str>$model\", model=guitar.model)) == 0:\n",
    "            try:\n",
    "                guitar_id = guitar.insert(client) # insert the guitar, get the uuid\n",
    "\n",
    "                for review in reviews: # insert all reviews\n",
    "                    review.insert(guitar_id, client)\n",
    "                \n",
    "                add_list.append(url) # keep track of what has been added\n",
    "\n",
    "            except:\n",
    "                # print(f'Could not insert guitar {guitar.model}')\n",
    "                fail_list.append(url)\n",
    "        else:\n",
    "            skip_list.append(url)\n",
    "\n",
    "    else:\n",
    "        # print(f\"{url_file} has not been downloaded\")\n",
    "        miss_list.append(url)\n",
    "\n",
    "print('Upload Statistics:')\n",
    "print(f\"\\t{len(add_list)} Guitars added\")\n",
    "print(f\"\\t{len(skip_list)} Guitars were already in the database\")\n",
    "print(f\"\\t{len(miss_list)} html files were missing\")\n",
    "print(f\"\\t{len(fail_list)} attempts failed for unknown reasons\")\n"
   ]
  },
  {
   "cell_type": "code",
   "execution_count": 7,
   "metadata": {},
   "outputs": [
    {
     "data": {
      "text/plain": [
       "\"SELECT Guitar filter .model = 'D'Angelico Deluxe Series Mini DC Limited-Edition Semi-Hollow Electric Guitar'\""
      ]
     },
     "execution_count": 7,
     "metadata": {},
     "output_type": "execute_result"
    }
   ],
   "source": [
    "f\"SELECT Guitar filter .model = '{guitar.model}'\""
   ]
  },
  {
   "cell_type": "code",
   "execution_count": 12,
   "metadata": {},
   "outputs": [
    {
     "data": {
      "text/plain": [
       "0"
      ]
     },
     "execution_count": 12,
     "metadata": {},
     "output_type": "execute_result"
    }
   ],
   "source": [
    "len(client.query(\"SELECT Guitar filter .model = <str>$model\", model=guitar.model))"
   ]
  },
  {
   "cell_type": "code",
   "execution_count": null,
   "metadata": {},
   "outputs": [],
   "source": []
  }
 ],
 "metadata": {
  "kernelspec": {
   "display_name": "MSDS",
   "language": "python",
   "name": "python3"
  },
  "language_info": {
   "codemirror_mode": {
    "name": "ipython",
    "version": 3
   },
   "file_extension": ".py",
   "mimetype": "text/x-python",
   "name": "python",
   "nbconvert_exporter": "python",
   "pygments_lexer": "ipython3",
   "version": "3.9.13"
  },
  "orig_nbformat": 4
 },
 "nbformat": 4,
 "nbformat_minor": 2
}
